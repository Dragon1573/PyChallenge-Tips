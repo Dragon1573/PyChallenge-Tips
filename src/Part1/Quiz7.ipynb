{
 "cells": [
  {
   "cell_type": "markdown",
   "metadata": {},
   "source": [
    "# Smarty\n",
    "\n",
    "[![GitHub license](https://img.shields.io/github/license/Dragon1573/PyChallenge-Tips?color=important&label=Licence&style=flat-square)](https://github.com/Dragon1573/PyChallenge-Tips/blob/master/LICENSE)\n",
    "[![Jump to Level 7](https://img.shields.io/badge/Jump%20to-Level%207-blue?style=flat-square)](http://www.pythonchallenge.com/pc/def/oxygen.html)\n",
    "\n",
    "<center><img src=\"../../resources/imgs/Quiz7-1.png\" /></center>\n",
    "\n",
    "&emsp;&emsp;图片的中间有一片灰度像素区，将图片放大至$500\\%$，借助像素坐标确定灰色条状区域为$(0, 43)\\sim(607, 51)$。借助`PIL.Image`类单独框选灰度条纹。"
   ]
  },
  {
   "cell_type": "code",
   "execution_count": 1,
   "metadata": {},
   "outputs": [],
   "source": [
    "from PIL import Image\n",
    "from requests import get\n",
    "from re import findall\n",
    "from io import BytesIO"
   ]
  },
  {
   "cell_type": "code",
   "execution_count": 2,
   "metadata": {},
   "outputs": [],
   "source": [
    "# 获取图片\n",
    "response = get('http://www.pythonchallenge.com/pc/def/oxygen.png')\n",
    "# 打开图片\n",
    "image = Image.open(BytesIO(response.content), mode='r')\n",
    "# 提取选区\n",
    "area = image.crop((0, 43, 607, 51))"
   ]
  },
  {
   "cell_type": "markdown",
   "metadata": {},
   "source": [
    "&emsp;&emsp;图片是彩色的，而中间的条纹只有灰度，可能解密点被隐藏在像素信息中。通过PIL将数据转换为灰度模式。"
   ]
  },
  {
   "cell_type": "code",
   "execution_count": 3,
   "metadata": {},
   "outputs": [],
   "source": [
    "area = area.convert('L')"
   ]
  },
  {
   "cell_type": "markdown",
   "metadata": {},
   "source": [
    "&emsp;&emsp;进一步观察，每$9\\times7$像素区域的颜色是相同的，他们传递相同的信息。即**信息以横轴向右的方向、线性连续存储在灰度条纹中**。"
   ]
  },
  {
   "cell_type": "code",
   "execution_count": 4,
   "metadata": {},
   "outputs": [
    {
     "name": "stdout",
     "output_type": "stream",
     "text": [
      "[115, 109, 97, 114, 116, 32, 103, 117, 121, 44, 32, 121, 111, 117, 32, 109, 97, 100, 101, 32, 105, 116, 46, 32, 116, 104, 101, 32, 110, 101, 120, 116, 32, 108, 101, 118, 101, 108, 32, 105, 115, 32, 91, 49, 48, 53, 44, 32, 49, 49, 48, 44, 32, 49, 49, 54, 44, 32, 49, 48, 49, 44, 32, 49, 48, 51, 44, 32, 49, 49, 52, 44, 32, 49, 48, 53, 44, 32, 49, 49, 54, 44, 32, 49, 50, 49, 93]\n"
     ]
    }
   ],
   "source": [
    "# getpixel() 的参数是坐标元组，魔法值5是选区的水平中轴线，抗干扰能力强不容易出错\n",
    "secrets = [area.getpixel((x, 5)) for x in range(0, 607, 7)]\n",
    "print(secrets)"
   ]
  },
  {
   "cell_type": "code",
   "execution_count": 5,
   "metadata": {},
   "outputs": [
    {
     "name": "stdout",
     "output_type": "stream",
     "text": [
      "Minimum: 32, Maximum: 121\n"
     ]
    }
   ],
   "source": [
    "print('Minimum: %d, Maximum: %d' % (min(secrets), max(secrets)))"
   ]
  },
  {
   "cell_type": "markdown",
   "metadata": {},
   "source": [
    "&emsp;&emsp;灰度图像的灰度级别为$0\\sim255$，正好是`ISO-8859-1`字符集的范围，且以上数值均不超过`ASCII`字符集可打印字符区的$32\\sim128$范围，我们尝试将其转换为`ASCII`并打印。"
   ]
  },
  {
   "cell_type": "code",
   "execution_count": 6,
   "metadata": {},
   "outputs": [
    {
     "name": "stdout",
     "output_type": "stream",
     "text": [
      "smart guy, you made it. the next level is [105, 110, 116, 101, 103, 114, 105, 116, 121]\n"
     ]
    }
   ],
   "source": [
    "secrets = ''.join([chr(value) for value in secrets])\n",
    "print(secrets)"
   ]
  },
  {
   "cell_type": "markdown",
   "metadata": {},
   "source": [
    "&emsp;&emsp;还是`ASCII`数值，照常正则提取并转换。"
   ]
  },
  {
   "cell_type": "code",
   "execution_count": 7,
   "metadata": {},
   "outputs": [
    {
     "name": "stdout",
     "output_type": "stream",
     "text": [
      "integrity\n"
     ]
    }
   ],
   "source": [
    "secrets = findall(r'\\d+', secrets)\n",
    "print(''.join([chr(int(value)) for value in secrets]))"
   ]
  },
  {
   "cell_type": "markdown",
   "metadata": {},
   "source": [
    "&emsp;&emsp;至此，我们终于找到了下一关的链接：<http://www.pythonchallenge.com/pc/def/integrity.html>。"
   ]
  }
 ],
 "metadata": {
  "kernelspec": {
   "display_name": "Python 3",
   "language": "python",
   "name": "python3"
  },
  "language_info": {
   "codemirror_mode": {
    "name": "ipython",
    "version": 3
   },
   "file_extension": ".py",
   "mimetype": "text/x-python",
   "name": "python",
   "nbconvert_exporter": "python",
   "pygments_lexer": "ipython3",
   "version": "3.7.5"
  }
 },
 "nbformat": 4,
 "nbformat_minor": 4
}
