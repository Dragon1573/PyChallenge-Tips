{
 "cells": [
  {
   "cell_type": "markdown",
   "metadata": {},
   "source": [
    "# Peak hell\n",
    "\n",
    "[![GitHub license](https://img.shields.io/github/license/Dragon1573/PyChallenge-Tips?color=important&label=Licence&style=flat-square)](https://github.com/Dragon1573/PyChallenge-Tips/blob/master/LICENSE)\n",
    "[![Jump to Level 5](https://img.shields.io/badge/Jump%20to-Level%205-blue?style=flat-square)](http://www.pythonchallenge.com/pc/def/peak.html)\n",
    "\n",
    "<img src=\"../../resources/imgs/Quiz5-1.png\" />\n",
    "\n",
    "&emsp;&emsp;`Peak hell`音似`pickle`，为Python中重要的二进制数据（反）序列化工具。查看源代码，发现数据包文件`banner.p`。\n",
    "\n",
    "```html\n",
    "<html>\n",
    "<head>\n",
    "  <title>peak hell</title>\n",
    "  <link rel=\"stylesheet\" type=\"text/css\" href=\"../style.css\" />\n",
    "</head>\n",
    "<body>\n",
    "    <center>\n",
    "        <img src=\"peakhell.jpg\" />\n",
    "        <br />\n",
    "        <font color=\"#c0c0ff\">pronounce it</font>\n",
    "        <br />\n",
    "        <peakhell src=\"banner.p\" />\n",
    "    </center>\n",
    "</body>\n",
    "</html>\n",
    "<!-- peak hell sounds familiar? -->\n",
    "```\n",
    "\n",
    "&emsp;&emsp;爬取数据包并使用`pickle`反序列化。"
   ]
  },
  {
   "cell_type": "code",
   "execution_count": 1,
   "metadata": {},
   "outputs": [],
   "source": [
    "from requests import get\n",
    "from pickle import loads"
   ]
  },
  {
   "cell_type": "code",
   "execution_count": 2,
   "metadata": {},
   "outputs": [
    {
     "name": "stdout",
     "output_type": "stream",
     "text": [
      "                                                                                               \n",
      "              #####                                                                      ##### \n",
      "               ####                                                                       #### \n",
      "               ####                                                                       #### \n",
      "               ####                                                                       #### \n",
      "               ####                                                                       #### \n",
      "               ####                                                                       #### \n",
      "               ####                                                                       #### \n",
      "               ####                                                                       #### \n",
      "      ###      ####   ###         ###       #####   ###    #####   ###          ###       #### \n",
      "   ###   ##    #### #######     ##  ###      #### #######   #### #######     ###  ###     #### \n",
      "  ###     ###  #####    ####   ###   ####    #####    ####  #####    ####   ###     ###   #### \n",
      " ###           ####     ####   ###    ###    ####     ####  ####     ####  ###      ####  #### \n",
      " ###           ####     ####          ###    ####     ####  ####     ####  ###       ###  #### \n",
      "####           ####     ####     ##   ###    ####     ####  ####     #### ####       ###  #### \n",
      "####           ####     ####   ##########    ####     ####  ####     #### ##############  #### \n",
      "####           ####     ####  ###    ####    ####     ####  ####     #### ####            #### \n",
      "####           ####     #### ####     ###    ####     ####  ####     #### ####            #### \n",
      " ###           ####     #### ####     ###    ####     ####  ####     ####  ###            #### \n",
      "  ###      ##  ####     ####  ###    ####    ####     ####  ####     ####   ###      ##   #### \n",
      "   ###    ##   ####     ####   ###########   ####     ####  ####     ####    ###    ##    #### \n",
      "      ###     ######    #####    ##    #### ######    ###########    #####      ###      ######\n",
      "                                                                                               \n"
     ]
    }
   ],
   "source": [
    "# 爬取数据包\n",
    "response = get(\"http://www.pythonchallenge.com/pc/def/banner.p\")\n",
    "# 载入\n",
    "data = loads(response.content)\n",
    "# 绘制字符画\n",
    "for line in data:\n",
    "    for item in line:\n",
    "        print(item[0] * item[1], sep='', end='')\n",
    "    print()"
   ]
  },
  {
   "cell_type": "markdown",
   "metadata": {},
   "source": [
    "&emsp;&emsp;观察字符画，可以看出单词`channel`，即下一关的链接为：<http://www.pythonchallenge.com/pc/def/channel.html>。"
   ]
  }
 ],
 "metadata": {
  "kernelspec": {
   "display_name": "Python 3",
   "language": "python",
   "name": "python3"
  },
  "language_info": {
   "codemirror_mode": {
    "name": "ipython",
    "version": 3
   },
   "file_extension": ".py",
   "mimetype": "text/x-python",
   "name": "python",
   "nbconvert_exporter": "python",
   "pygments_lexer": "ipython3",
   "version": "3.7.5"
  }
 },
 "nbformat": 4,
 "nbformat_minor": 4
}
