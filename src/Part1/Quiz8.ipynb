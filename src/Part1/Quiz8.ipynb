{
 "cells": [
  {
   "cell_type": "markdown",
   "metadata": {},
   "source": [
    "# Working hard?\n",
    "\n",
    "[![GitHub License](https://img.shields.io/github/license/Dragon1573/PyChallenge-Tips?color=important&label=Licence&style=flat-square)](https://github.com/Dragon1573/PyChallenge-Tips/blob/master/LICENSE)\n",
    "[![Jump to Level 8](https://img.shields.io/badge/Jump%20to-Level%208-blue?style=flat-square)](http://www.pythonchallenge.com/pc/def/integrity.html)\n",
    "\n",
    "<center><img src=\"../../resources/imgs/Quiz8-1.png\" /></center>\n",
    "\n",
    "&emsp;&emsp;不明所以，先把页面爬来看看？"
   ]
  },
  {
   "cell_type": "code",
   "execution_count": 1,
   "metadata": {},
   "outputs": [],
   "source": [
    "from requests import get\n",
    "from bs4 import BeautifulSoup"
   ]
  },
  {
   "cell_type": "code",
   "execution_count": 2,
   "metadata": {},
   "outputs": [
    {
     "name": "stdout",
     "output_type": "stream",
     "text": [
      "<html>\n",
      " <head>\n",
      "  <title>\n",
      "   working hard?\n",
      "  </title>\n",
      "  <link href=\"../style.css\" rel=\"stylesheet\" type=\"text/css\"/>\n",
      " </head>\n",
      " <body>\n",
      "  <br/>\n",
      "  <br/>\n",
      "  <center>\n",
      "   <img border=\"0\" height=\"480\" src=\"integrity.jpg\" usemap=\"#notinsect\" width=\"640\"/>\n",
      "   <map name=\"notinsect\">\n",
      "    <area coords=\"179,284,214,311,255,320,281,226,319,224,363,309,339,222,371,225,411,229,404,242,415,252,428,233,428,214,394,207,383,205,390,195,423,192,439,193,442,209,440,215,450,221,457,226,469,202,475,187,494,188,494,169,498,147,491,121,477,136,481,96,471,94,458,98,444,91,420,87,405,92,391,88,376,82,350,79,330,82,314,85,305,90,299,96,290,103,276,110,262,114,225,123,212,125,185,133,138,144,118,160,97,168,87,176,110,180,145,176,153,176,150,182,137,190,126,194,121,198,126,203,151,205,160,195,168,217,169,234,170,260,174,282\" href=\"../return/good.html\" shape=\"poly\"/>\n",
      "   </map>\n",
      "   <br/>\n",
      "   <br/>\n",
      "   <font color=\"#303030\" size=\"+2\">\n",
      "    Where is the missing link?\n",
      "   </font>\n",
      "  </center>\n",
      " </body>\n",
      "</html>\n",
      "<!--\n",
      "un: 'BZh91AY&SYA\\xaf\\x82\\r\\x00\\x00\\x01\\x01\\x80\\x02\\xc0\\x02\\x00 \\x00!\\x9ah3M\\x07<]\\xc9\\x14\\xe1BA\\x06\\xbe\\x084'\n",
      "pw: 'BZh91AY&SY\\x94$|\\x0e\\x00\\x00\\x00\\x81\\x00\\x03$ \\x00!\\x9ah3M\\x13<]\\xc9\\x14\\xe1BBP\\x91\\xf08'\n",
      "-->\n",
      "\n"
     ]
    }
   ],
   "source": [
    "response = get('http://www.pythonchallenge.com/pc/def/integrity.html')\n",
    "soup = BeautifulSoup(response.text, features='html.parser')\n",
    "print(soup.prettify())"
   ]
  },
  {
   "cell_type": "markdown",
   "metadata": {},
   "source": [
    "&emsp;&emsp;关卡的`HTML`页面上有个`<map><area href /></map>`代码段，这个应该是自定义的区域链接，表示下一关应该是<http://www.pythonchallenge.com/pc/return/good.html>，点击图片上的蜜蜂出现选区并触发链接跳转，但新页面需要输入用户名与密码进行身份鉴权。这个用户名和密码在哪？\n",
    "\n",
    "&emsp;&emsp;这里又是外国人才懂的关联梗了。蜜蜂的`working hard`可以理解为`busy`，进而联想到蜜蜂也很忙碌`Busy too.`，谐音Python压缩组件`bz2`。页面源代码末尾的注释也说明了这点，`un`与`pw`分别是用户名和密码，开头的`BZ`同样说明了这是使用`bz2`压缩过的密码字符串。\n",
    "\n",
    "&emsp;&emsp;只要通过`bz2`将用户名与密码解压获得明文即可登录，进入下一难度层级。"
   ]
  },
  {
   "cell_type": "code",
   "execution_count": 3,
   "metadata": {},
   "outputs": [],
   "source": [
    "from bz2 import decompress\n",
    "from re import search"
   ]
  },
  {
   "cell_type": "code",
   "execution_count": 4,
   "metadata": {},
   "outputs": [
    {
     "name": "stdout",
     "output_type": "stream",
     "text": [
      "Username: huge\n",
      "Password: file\n"
     ]
    }
   ],
   "source": [
    "username = search(r\"un: '(.*)'\", soup.prettify()).group(1)\n",
    "username = eval(r\"b'\" + username + r\"'\")\n",
    "print('Username:', decompress(username).decode())\n",
    "password = search(r\"pw: '(.*)'\", soup.prettify()).group(1)\n",
    "password = eval(r\"b'\" + password + r\"'\")\n",
    "print('Password:', decompress(password).decode())"
   ]
  },
  {
   "cell_type": "markdown",
   "metadata": {},
   "source": [
    "&emsp;&emsp;终于，我们成功获得了进阶下一难度的用户名与密码。"
   ]
  }
 ],
 "metadata": {
  "kernelspec": {
   "display_name": "Python 3",
   "language": "python",
   "name": "python3"
  },
  "language_info": {
   "codemirror_mode": {
    "name": "ipython",
    "version": 3
   },
   "file_extension": ".py",
   "mimetype": "text/x-python",
   "name": "python",
   "nbconvert_exporter": "python",
   "pygments_lexer": "ipython3",
   "version": "3.7.5"
  }
 },
 "nbformat": 4,
 "nbformat_minor": 4
}
