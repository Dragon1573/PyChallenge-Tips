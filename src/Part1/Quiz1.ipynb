{
 "cells": [
  {
   "cell_type": "markdown",
   "metadata": {},
   "source": [
    "# What about making trans?\n",
    "\n",
    "[![GitHub license](https://img.shields.io/github/license/Dragon1573/PyChallenge-Tips?color=important&label=Licence&style=flat-square)](https://github.com/Dragon1573/PyChallenge-Tips/blob/master/LICENSE)\n",
    "[![Jump to Level 1](https://img.shields.io/badge/Jump%20to-Level%201-blue)](http://www.pythonchallenge.com/pc/def/map.html)\n",
    "\n",
    "<img src=\"../../resources/imgs/Quiz1.png\" />\n",
    "\n",
    "*****\n",
    "\n",
    "&emsp;&emsp;根据图片及金色文字提示，可以发现映射关系符合位移量为2的凯撒密码。借助函数方法对字符进行转换即可。"
   ]
  },
  {
   "cell_type": "code",
   "execution_count": 1,
   "metadata": {},
   "outputs": [],
   "source": [
    "# 导入小写字母表\n",
    "from string import ascii_lowercase as letters"
   ]
  },
  {
   "cell_type": "code",
   "execution_count": 2,
   "metadata": {},
   "outputs": [
    {
     "name": "stdout",
     "output_type": "stream",
     "text": [
      "i hope you didnt translate it by hand. thats what computers are for. doing it in by hand is inefficient and that's why this text is so long. using string.maketrans() is recommended. now apply on the url.\n"
     ]
    }
   ],
   "source": [
    "s = \"g fmnc wms bgblr rpylqjyrc gr zw fylb. rfyrq ufyr amknsrcpq ypc\" + \\\n",
    "    \" dmp. bmgle gr gl zw fylb gq glcddgagclr ylb rfyr'q ufw rfgq rcvr\" + \\\n",
    "    \" gq qm jmle. sqgle qrpgle.kyicrpylq() gq pcamkkclbcb. \" + \\\n",
    "    \"lmu ynnjw ml rfc spj.\"\n",
    "# 将字母表整体后移2位，拼接为新的字母表\n",
    "decodeStr = letters[2:] + letters[:2]\n",
    "transTable = str.maketrans(letters, decodeStr)\n",
    "print(s.translate(transTable))"
   ]
  },
  {
   "cell_type": "markdown",
   "metadata": {},
   "source": [
    "> &emsp;&emsp;我希望你没有人工地进行翻译，那是计算机做的事。人工翻译是非常低效的，这也是本文段又臭又长地原因，建议使用`string.maketrans()`。现在，对URL链接做相同地处理。\n",
    "\n",
    "&emsp;&emsp;将`map`逐字母后移2位，得到`ocr`。下一关链接即为 <http://www.pythonchallenge.com/pc/def/ocr.html> 。"
   ]
  }
 ],
 "metadata": {
  "kernelspec": {
   "display_name": "Python 3",
   "language": "python",
   "name": "python3"
  },
  "language_info": {
   "codemirror_mode": {
    "name": "ipython",
    "version": 3
   },
   "file_extension": ".py",
   "mimetype": "text/x-python",
   "name": "python",
   "nbconvert_exporter": "python",
   "pygments_lexer": "ipython3",
   "version": "3.7.5"
  }
 },
 "nbformat": 4,
 "nbformat_minor": 4
}
