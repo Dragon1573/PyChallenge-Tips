{
 "cells": [
  {
   "cell_type": "markdown",
   "metadata": {},
   "source": [
    "# Re\n",
    "\n",
    "[![GitHub license](https://img.shields.io/github/license/Dragon1573/PyChallenge-Tips?color=important&label=Licence&style=flat-square)](https://github.com/Dragon1573/PyChallenge-Tips/blob/master/LICENSE)\n",
    "[![Jump to Level 3](https://img.shields.io/badge/Jump%20to-Level%203-blue?style=flat-square)](http://www.pythonchallenge.com/pc/def/equality.html)\n",
    "\n",
    "<img src=\"../../resources/imgs/Quiz3-1.png\" />\n",
    "\n",
    "&emsp;&emsp;照常进入源代码视图，在第21～1271行之间按要求寻找“两侧恰好被3个大写字母包围的小写字母”。"
   ]
  },
  {
   "cell_type": "code",
   "execution_count": 1,
   "metadata": {},
   "outputs": [],
   "source": [
    "from requests import get\n",
    "from re import findall"
   ]
  },
  {
   "cell_type": "code",
   "execution_count": 2,
   "metadata": {},
   "outputs": [
    {
     "name": "stdout",
     "output_type": "stream",
     "text": [
      "linkedlist\n"
     ]
    }
   ],
   "source": [
    "web_page = get(\"http://www.pythonchallenge.com/pc/def/equality.html\")\n",
    "source_code = \"\".join(findall(r\"\\S\", web_page.text))\n",
    "mess = \"\".join(findall(r\"<!--(.*)-->\", source_code))\n",
    "result = \"\".join(findall(r\"[a-z][A-Z]{3}([a-z])[A-Z]{3}[a-z]\", mess))\n",
    "print(result)"
   ]
  },
  {
   "cell_type": "markdown",
   "metadata": {},
   "source": [
    "&emsp;&emsp;访问 `linklist.html` ，提示前往 `linklist.php` 。因此，下一关链接为：<http://www.pythonchallenge.com/pc/def/linkedlist.php>。"
   ]
  }
 ],
 "metadata": {
  "kernelspec": {
   "display_name": "Python 3",
   "language": "python",
   "name": "python3"
  },
  "language_info": {
   "codemirror_mode": {
    "name": "ipython",
    "version": 3
   },
   "file_extension": ".py",
   "mimetype": "text/x-python",
   "name": "python",
   "nbconvert_exporter": "python",
   "pygments_lexer": "ipython3",
   "version": "3.7.5"
  }
 },
 "nbformat": 4,
 "nbformat_minor": 4
}
