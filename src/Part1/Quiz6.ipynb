{
 "cells": [
  {
   "cell_type": "markdown",
   "metadata": {},
   "source": [
    "# Now there are pairs\n",
    "\n",
    "[![GitHub license](https://img.shields.io/github/license/Dragon1573/PyChallenge-Tips?color=important&label=Licence&style=flat-square)](https://github.com/Dragon1573/PyChallenge-Tips/blob/master/LICENSE)\n",
    "[![Jump to Level 6](https://img.shields.io/badge/Jump%20to-Level%206-blue?style=flat-square)](http://www.pythonchallenge.com/pc/def/channel.html)\n",
    "\n",
    "<img src=\"../../resources/imgs/Quiz6-1.png\" />\n",
    "\n",
    "```html\n",
    "<html> <!-- <-- zip -->\n",
    "<head>\n",
    "  <title>now there are pairs</title>\n",
    "  <link rel=\"stylesheet\" type=\"text/css\" href=\"../style.css\" />\n",
    "</head>\n",
    "<body>\n",
    "  <center>\n",
    "    <img src=\"channel.jpg\" />\n",
    "    <br />\n",
    "  </center>\n",
    "</body>\n",
    "</html>\n",
    "```\n",
    "\n",
    "&emsp;&emsp;尝试将链接替换为`channel.zip`，的确存在压缩包。"
   ]
  },
  {
   "cell_type": "code",
   "execution_count": 1,
   "metadata": {},
   "outputs": [],
   "source": [
    "from requests import get\n",
    "import zipfile\n",
    "from io import BytesIO\n",
    "from re import search"
   ]
  },
  {
   "cell_type": "code",
   "execution_count": 2,
   "metadata": {},
   "outputs": [
    {
     "name": "stdout",
     "output_type": "stream",
     "text": [
      "['readme.txt', '99905.txt', '99775.txt', '99714.txt', '99460.txt', '99254.txt', '992.txt', '99189.txt']\n"
     ]
    }
   ],
   "source": [
    "# 爬取压缩文件\n",
    "response = get('http://www.pythonchallenge.com/pc/def/channel.zip')\n",
    "# 将字节数组转换为文件对象\n",
    "zipped = BytesIO(response.content)\n",
    "# 打开压缩包\n",
    "with zipfile.ZipFile(zipped, mode='r', compression=zipfile.ZIP_DEFLATED) as file:\n",
    "    # 获取归档列表\n",
    "    archives = file.namelist()\n",
    "    # 将文件名按字典逆序排列\n",
    "    archives.sort(reverse=True)\n",
    "    # 显示前8个文件\n",
    "    print(archives[:8])"
   ]
  },
  {
   "cell_type": "markdown",
   "metadata": {},
   "source": [
    "&emsp;&emsp;检查压缩包内的文件列表，发现`readme.txt`。这是遍历重定向链的重要提示。"
   ]
  },
  {
   "cell_type": "code",
   "execution_count": 3,
   "metadata": {},
   "outputs": [
    {
     "name": "stdout",
     "output_type": "stream",
     "text": [
      "welcome to my zipped list.\n",
      "\n",
      "hint1: start from 90052\n",
      "hint2: answer is inside the zip\n",
      "\n"
     ]
    }
   ],
   "source": [
    "with zipfile.ZipFile(zipped, mode='r', compression=zipfile.ZIP_DEFLATED) as file:\n",
    "    # 解析 readme.txt\n",
    "    print(file.read('readme.txt').decode('UTF-8'))"
   ]
  },
  {
   "cell_type": "markdown",
   "metadata": {},
   "source": [
    "&emsp;&emsp;通过以上信息，我们确定重定向链的链头为`90052.txt`。我们仍然仿照第4关的方法遍历重定向链。"
   ]
  },
  {
   "cell_type": "code",
   "execution_count": 4,
   "metadata": {},
   "outputs": [
    {
     "name": "stdout",
     "output_type": "stream",
     "text": [
      "Hop 900: Next nothing is 91038\n",
      "Hop 901: Next nothing is 44221\n",
      "Hop 902: Next nothing is 992\n",
      "Hop 903: Next nothing is 8700\n",
      "Hop 904: Next nothing is 45100\n",
      "Hop 905: Next nothing is 68628\n",
      "Hop 906: Next nothing is 67824\n",
      "Hop 907: Next nothing is 46145\n",
      "Hop 908: Collect the comments.\n"
     ]
    }
   ],
   "source": [
    "with zipfile.ZipFile(zipped, mode='r', compression=zipfile.ZIP_DEFLATED) as file:\n",
    "    index = '90052'\n",
    "    hops = 0\n",
    "    \n",
    "    # 遍历重定向链并统计跳数\n",
    "    while True:\n",
    "        text = file.read(index + '.txt').decode('UTF-8')\n",
    "        if hops >= 900:\n",
    "            print('Hop %d: %s' % (hops, text))\n",
    "        regex_target = search(r'nothing is (\\d+)', text)\n",
    "        if regex_target:\n",
    "            index = regex_target.group(1)\n",
    "        else:\n",
    "            break\n",
    "        hops += 1"
   ]
  },
  {
   "cell_type": "markdown",
   "metadata": {},
   "source": [
    "&emsp;&emsp;在历经908跳后，我们终于获得了第2个提示：收集注释。"
   ]
  },
  {
   "cell_type": "code",
   "execution_count": 5,
   "metadata": {},
   "outputs": [
    {
     "name": "stdout",
     "output_type": "stream",
     "text": [
      "****************************************************************\n",
      "****************************************************************\n",
      "**                                                            **\n",
      "**   OO    OO    XX      YYYY    GG    GG  EEEEEE NN      NN  **\n",
      "**   OO    OO  XXXXXX   YYYYYY   GG   GG   EEEEEE  NN    NN   **\n",
      "**   OO    OO XXX  XXX YYY   YY  GG GG     EE       NN  NN    **\n",
      "**   OOOOOOOO XX    XX YY        GGG       EEEEE     NNNN     **\n",
      "**   OOOOOOOO XX    XX YY        GGG       EEEEE      NN      **\n",
      "**   OO    OO XXX  XXX YYY   YY  GG GG     EE         NN      **\n",
      "**   OO    OO  XXXXXX   YYYYYY   GG   GG   EEEEEE     NN      **\n",
      "**   OO    OO    XX      YYYY    GG    GG  EEEEEE     NN      **\n",
      "**                                                            **\n",
      "****************************************************************\n",
      " **************************************************************\n"
     ]
    }
   ],
   "source": [
    "with zipfile.ZipFile(zipped, mode='r', compression=zipfile.ZIP_DEFLATED) as file:\n",
    "    index = '90052'\n",
    "    while True:\n",
    "        # 打印注释\n",
    "        print(file.getinfo(index + '.txt').comment.decode('UTF-8'), sep='', end='')\n",
    "        # 检索下一跳地址\n",
    "        regex_target = search(r'nothing is (\\d+)', file.read(index + '.txt').decode('UTF-8'))\n",
    "        if regex_target:\n",
    "            # 前往下一跳\n",
    "            index = regex_target.group(1)\n",
    "        else:\n",
    "            # 结束重定向\n",
    "            break"
   ]
  },
  {
   "cell_type": "markdown",
   "metadata": {},
   "source": [
    "&emsp;&emsp;在将注释打印成字符画后，我们获得了单词`HOCKEY`。"
   ]
  },
  {
   "cell_type": "code",
   "execution_count": 6,
   "metadata": {},
   "outputs": [
    {
     "name": "stdout",
     "output_type": "stream",
     "text": [
      "it's in the air. look at the letters. \n",
      "\n"
     ]
    }
   ],
   "source": [
    "response = get('http://www.pythonchallenge.com/pc/def/hockey.html')\n",
    "print(response.text)"
   ]
  },
  {
   "cell_type": "markdown",
   "metadata": {},
   "source": [
    "&emsp;&emsp;结果很近了，但仍然不对。提示告诉我们答案在空气中，并注意查看那些字母。\n",
    "\n",
    "&emsp;&emsp;单词字符画`HOCKEY`的每一个字母分别由`OXYGEN`（氧气）组成，符合上一个提示。所以下一关链接为：<http://www.pythonchallenge.com/pc/def/oxygen.html>。"
   ]
  }
 ],
 "metadata": {
  "kernelspec": {
   "display_name": "Python 3",
   "language": "python",
   "name": "python3"
  },
  "language_info": {
   "codemirror_mode": {
    "name": "ipython",
    "version": 3
   },
   "file_extension": ".py",
   "mimetype": "text/x-python",
   "name": "python",
   "nbconvert_exporter": "python",
   "pygments_lexer": "ipython3",
   "version": "3.7.5"
  }
 },
 "nbformat": 4,
 "nbformat_minor": 4
}
