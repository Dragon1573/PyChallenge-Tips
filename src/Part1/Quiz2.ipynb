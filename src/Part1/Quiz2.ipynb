{
 "cells": [
  {
   "cell_type": "markdown",
   "metadata": {},
   "source": [
    "# OCR\n",
    "\n",
    "[![GitHub license](https://img.shields.io/github/license/Dragon1573/PyChallenge-Tips?color=important&label=Licence&style=flat-square)](https://github.com/Dragon1573/PyChallenge-Tips/blob/master/LICENSE)\n",
    "[![Jump to Level 2](https://img.shields.io/badge/Jump%20to-Level%202-blue?style=flat-square)](http://www.pythonchallenge.com/pc/def/ocr.html)\n",
    "\n",
    "<img src=\"../../resources/imgs/Quiz2-1.png\" />\n",
    "\n",
    "&emsp;&emsp;图片中的文字无论如何处理都是无法看清其中的文字内容的，按照提示，尝试查看源代码。\n",
    "\n",
    "<img src=\"../../resources/imgs/Quiz2-2.png\" />\n",
    "\n",
    "&emsp;&emsp;按照提示，对乱码中各字符频数进行统计。"
   ]
  },
  {
   "cell_type": "code",
   "execution_count": 5,
   "metadata": {},
   "outputs": [],
   "source": [
    "from requests import get\n",
    "from re import findall, search\n",
    "from collections import Counter\n",
    "from json import dumps"
   ]
  },
  {
   "cell_type": "code",
   "execution_count": 6,
   "metadata": {},
   "outputs": [
    {
     "name": "stdout",
     "output_type": "stream",
     "text": [
      "{\n",
      "    \"%\": 6104,\n",
      "    \"$\": 6046,\n",
      "    \"@\": 6157,\n",
      "    \"_\": 6112,\n",
      "    \"^\": 6030,\n",
      "    \"#\": 6115,\n",
      "    \")\": 6186,\n",
      "    \"&\": 6043,\n",
      "    \"!\": 6079,\n",
      "    \"+\": 6066,\n",
      "    \"]\": 6152,\n",
      "    \"*\": 6034,\n",
      "    \"}\": 6105,\n",
      "    \"[\": 6108,\n",
      "    \"(\": 6154,\n",
      "    \"{\": 6046,\n",
      "    \"e\": 1,\n",
      "    \"q\": 1,\n",
      "    \"u\": 1,\n",
      "    \"a\": 1,\n",
      "    \"l\": 1,\n",
      "    \"i\": 1,\n",
      "    \"t\": 1,\n",
      "    \"y\": 1\n",
      "}\n"
     ]
    }
   ],
   "source": [
    "# 爬取网页\n",
    "response = get(\"http://www.pythonchallenge.com/pc/def/ocr.html\")\n",
    "# 获取网页源代码\n",
    "sourceCode = response.text\n",
    "# 去除空白字符\n",
    "trimed = \"\".join(findall(r\"\\S\", sourceCode))\n",
    "# 提取乱码\n",
    "mess = search(r\"<!--(%.*)-->\", trimed).group(1)\n",
    "counter = Counter(mess)\n",
    "print(dumps(dict(counter), indent=4))"
   ]
  },
  {
   "cell_type": "markdown",
   "metadata": {},
   "source": [
    "&emsp;&emsp;根据以上结果，出现频率最少的字母只能组成单词`equality`。下一关链接为 <http://www.pythonchallenge.com/pc/def/equality.html> 。"
   ]
  }
 ],
 "metadata": {
  "kernelspec": {
   "display_name": "Python 3",
   "language": "python",
   "name": "python3"
  },
  "language_info": {
   "codemirror_mode": {
    "name": "ipython",
    "version": 3
   },
   "file_extension": ".py",
   "mimetype": "text/x-python",
   "name": "python",
   "nbconvert_exporter": "python",
   "pygments_lexer": "ipython3",
   "version": "3.7.5"
  }
 },
 "nbformat": 4,
 "nbformat_minor": 4
}
