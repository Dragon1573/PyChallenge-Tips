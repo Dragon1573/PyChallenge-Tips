{
 "cells": [
  {
   "cell_type": "markdown",
   "metadata": {},
   "source": [
    "# What is this module?\n",
    "\n",
    "[![GitHub License](https://img.shields.io/github/license/Dragon1573/PyChallenge-Tips?color=important&label=Licence&style=flat-square)](https://github.com/Dragon1573/PyChallenge-Tips/blob/master/LICENSE)\n",
    "[![Jump to Level 23](https://img.shields.io/badge/Jump%20to-Level%2023-blue?style=flat-square)](http://www.pythonchallenge.com/pc/hex/bonus.html)\n",
    "\n",
    "<center><img src=\"../../resources/imgs/Quiz23-1.png\" /></center>\n",
    "\n",
    "&emsp;&emsp;一头黄牛？先看看关卡源代码。"
   ]
  },
  {
   "cell_type": "code",
   "execution_count": 1,
   "metadata": {},
   "outputs": [],
   "source": [
    "from requests import get\n",
    "from bs4 import BeautifulSoup as Soup"
   ]
  },
  {
   "cell_type": "code",
   "execution_count": 2,
   "metadata": {},
   "outputs": [
    {
     "name": "stdout",
     "output_type": "stream",
     "text": [
      "TODO: do you owe someone an apology? now it is a good time to\n",
      "tell him that you are sorry. Please show good manners although\n",
      "it has nothing to do with this level.\n",
      "\n",
      "it can't find it. this is an undocumented module.\n",
      "\n",
      "'va gur snpr bs jung?'\n"
     ]
    }
   ],
   "source": [
    "response = get(\n",
    "    'http://www.pythonchallenge.com/pc/hex/bonus.html',\n",
    "    headers={'Authorization': 'Basic YnV0dGVyOmZseQ=='}\n",
    ")\n",
    "response = Soup(response.text, features='html5lib')\n",
    "print(\n",
    "    response.contents[0].strip(),\n",
    "    response.img.next.next.strip(),\n",
    "    response.contents[-1].strip(),\n",
    "    sep='\\n\\n'\n",
    ")"
   ]
  },
  {
   "cell_type": "markdown",
   "metadata": {},
   "source": [
    "&emsp;&emsp;又是乱码？是不是很熟悉？还记得第1关的字符翻译解码吗？\n",
    "\n",
    "&emsp;&emsp;关卡标题是`What is this module?`，对于所有的Python开发人员，Ta们或多或少都会知道隐藏在Python中的彩蛋——`this`。当在任意Python环境中输入`import this`后，解释器会输出一段文字，总计19行："
   ]
  },
  {
   "cell_type": "code",
   "execution_count": 3,
   "metadata": {},
   "outputs": [
    {
     "name": "stdout",
     "output_type": "stream",
     "text": [
      "The Zen of Python, by Tim Peters\n",
      "\n",
      "Beautiful is better than ugly.\n",
      "Explicit is better than implicit.\n",
      "Simple is better than complex.\n",
      "Complex is better than complicated.\n",
      "Flat is better than nested.\n",
      "Sparse is better than dense.\n",
      "Readability counts.\n",
      "Special cases aren't special enough to break the rules.\n",
      "Although practicality beats purity.\n",
      "Errors should never pass silently.\n",
      "Unless explicitly silenced.\n",
      "In the face of ambiguity, refuse the temptation to guess.\n",
      "There should be one-- and preferably only one --obvious way to do it.\n",
      "Although that way may not be obvious at first unless you're Dutch.\n",
      "Now is better than never.\n",
      "Although never is often better than *right* now.\n",
      "If the implementation is hard to explain, it's a bad idea.\n",
      "If the implementation is easy to explain, it may be a good idea.\n",
      "Namespaces are one honking great idea -- let's do more of those!\n"
     ]
    }
   ],
   "source": [
    "import this"
   ]
  },
  {
   "cell_type": "markdown",
   "metadata": {},
   "source": [
    "&emsp;&emsp;这19句真言便是由Tim Peters编写的《**Python之禅**》。尽管`this`模块在Python开发过程中没有任何实际作用，但在这一关卡中我们仍然需要它。让我们看看这个模块的源代码吧！"
   ]
  },
  {
   "cell_type": "code",
   "execution_count": 4,
   "metadata": {},
   "outputs": [
    {
     "data": {
      "text/plain": [
       "\u001b[1;31mType:\u001b[0m        module\n",
       "\u001b[1;31mString form:\u001b[0m <module 'this' from 'C:\\\\Users\\\\legen\\\\Anaconda3\\\\lib\\\\this.py'>\n",
       "\u001b[1;31mFile:\u001b[0m        c:\\users\\legen\\anaconda3\\lib\\this.py\n",
       "\u001b[1;31mSource:\u001b[0m     \n",
       "\u001b[0ms\u001b[0m \u001b[1;33m=\u001b[0m \u001b[1;34m\"\"\"Gur Mra bs Clguba, ol Gvz Crgref\n",
       "\n",
       "Ornhgvshy vf orggre guna htyl.\n",
       "Rkcyvpvg vf orggre guna vzcyvpvg.\n",
       "Fvzcyr vf orggre guna pbzcyrk.\n",
       "Pbzcyrk vf orggre guna pbzcyvpngrq.\n",
       "Syng vf orggre guna arfgrq.\n",
       "Fcnefr vf orggre guna qrafr.\n",
       "Ernqnovyvgl pbhagf.\n",
       "Fcrpvny pnfrf nera'g fcrpvny rabhtu gb oernx gur ehyrf.\n",
       "Nygubhtu cenpgvpnyvgl orngf chevgl.\n",
       "Reebef fubhyq arire cnff fvyragyl.\n",
       "Hayrff rkcyvpvgyl fvyraprq.\n",
       "Va gur snpr bs nzovthvgl, ershfr gur grzcgngvba gb thrff.\n",
       "Gurer fubhyq or bar-- naq cersrenoyl bayl bar --boivbhf jnl gb qb vg.\n",
       "Nygubhtu gung jnl znl abg or boivbhf ng svefg hayrff lbh'er Qhgpu.\n",
       "Abj vf orggre guna arire.\n",
       "Nygubhtu arire vf bsgra orggre guna *evtug* abj.\n",
       "Vs gur vzcyrzragngvba vf uneq gb rkcynva, vg'f n onq vqrn.\n",
       "Vs gur vzcyrzragngvba vf rnfl gb rkcynva, vg znl or n tbbq vqrn.\n",
       "Anzrfcnprf ner bar ubaxvat terng vqrn -- yrg'f qb zber bs gubfr!\"\"\"\u001b[0m\u001b[1;33m\n",
       "\u001b[0m\u001b[1;33m\n",
       "\u001b[0m\u001b[0md\u001b[0m \u001b[1;33m=\u001b[0m \u001b[1;33m{\u001b[0m\u001b[1;33m}\u001b[0m\u001b[1;33m\n",
       "\u001b[0m\u001b[1;32mfor\u001b[0m \u001b[0mc\u001b[0m \u001b[1;32min\u001b[0m \u001b[1;33m(\u001b[0m\u001b[1;36m65\u001b[0m\u001b[1;33m,\u001b[0m \u001b[1;36m97\u001b[0m\u001b[1;33m)\u001b[0m\u001b[1;33m:\u001b[0m\u001b[1;33m\n",
       "\u001b[0m    \u001b[1;32mfor\u001b[0m \u001b[0mi\u001b[0m \u001b[1;32min\u001b[0m \u001b[0mrange\u001b[0m\u001b[1;33m(\u001b[0m\u001b[1;36m26\u001b[0m\u001b[1;33m)\u001b[0m\u001b[1;33m:\u001b[0m\u001b[1;33m\n",
       "\u001b[0m        \u001b[0md\u001b[0m\u001b[1;33m[\u001b[0m\u001b[0mchr\u001b[0m\u001b[1;33m(\u001b[0m\u001b[0mi\u001b[0m\u001b[1;33m+\u001b[0m\u001b[0mc\u001b[0m\u001b[1;33m)\u001b[0m\u001b[1;33m]\u001b[0m \u001b[1;33m=\u001b[0m \u001b[0mchr\u001b[0m\u001b[1;33m(\u001b[0m\u001b[1;33m(\u001b[0m\u001b[0mi\u001b[0m\u001b[1;33m+\u001b[0m\u001b[1;36m13\u001b[0m\u001b[1;33m)\u001b[0m \u001b[1;33m%\u001b[0m \u001b[1;36m26\u001b[0m \u001b[1;33m+\u001b[0m \u001b[0mc\u001b[0m\u001b[1;33m)\u001b[0m\u001b[1;33m\n",
       "\u001b[0m\u001b[1;33m\n",
       "\u001b[0m\u001b[0mprint\u001b[0m\u001b[1;33m(\u001b[0m\u001b[1;34m\"\"\u001b[0m\u001b[1;33m.\u001b[0m\u001b[0mjoin\u001b[0m\u001b[1;33m(\u001b[0m\u001b[1;33m[\u001b[0m\u001b[0md\u001b[0m\u001b[1;33m.\u001b[0m\u001b[0mget\u001b[0m\u001b[1;33m(\u001b[0m\u001b[0mc\u001b[0m\u001b[1;33m,\u001b[0m \u001b[0mc\u001b[0m\u001b[1;33m)\u001b[0m \u001b[1;32mfor\u001b[0m \u001b[0mc\u001b[0m \u001b[1;32min\u001b[0m \u001b[0ms\u001b[0m\u001b[1;33m]\u001b[0m\u001b[1;33m)\u001b[0m\u001b[1;33m)\u001b[0m\u001b[1;33m\u001b[0m\u001b[1;33m\u001b[0m\u001b[0m\n"
      ]
     },
     "metadata": {},
     "output_type": "display_data"
    }
   ],
   "source": [
    "this??"
   ]
  },
  {
   "cell_type": "markdown",
   "metadata": {},
   "source": [
    "&emsp;&emsp;源代码倒数第3行出现的数字$13$便是将上面长文字解码的偏移量密钥。我们用$13$作为密钥，尝试解密关卡中的那段乱码注释。"
   ]
  },
  {
   "cell_type": "code",
   "execution_count": 5,
   "metadata": {},
   "outputs": [],
   "source": [
    "from string import ascii_lowercase"
   ]
  },
  {
   "cell_type": "code",
   "execution_count": 6,
   "metadata": {},
   "outputs": [
    {
     "name": "stdout",
     "output_type": "stream",
     "text": [
      "'in the face of what?'\n"
     ]
    }
   ],
   "source": [
    "decryptor = str.maketrans(ascii_lowercase, ascii_lowercase[13:] + ascii_lowercase[:13])\n",
    "print(response.contents[-1].strip().translate(decryptor))"
   ]
  },
  {
   "cell_type": "markdown",
   "metadata": {},
   "source": [
    "&emsp;&emsp;将上面解析出来的问题与《Python之禅》原文进行对照，可以得到答案`ambiguity`，所以下一关的链接为<http://www.pythonchallenge.com/pc/hex/ambiguity.html>。"
   ]
  }
 ],
 "metadata": {
  "kernelspec": {
   "display_name": "Python 3",
   "language": "python",
   "name": "python3"
  },
  "language_info": {
   "codemirror_mode": {
    "name": "ipython",
    "version": 3
   },
   "file_extension": ".py",
   "mimetype": "text/x-python",
   "name": "python",
   "nbconvert_exporter": "python",
   "pygments_lexer": "ipython3",
   "version": "3.7.5"
  }
 },
 "nbformat": 4,
 "nbformat_minor": 4
}
