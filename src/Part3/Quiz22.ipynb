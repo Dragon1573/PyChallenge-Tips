{
 "cells": [
  {
   "cell_type": "markdown",
   "metadata": {},
   "source": [
    "# Emulate\n",
    "\n",
    "[![GitHub License](https://img.shields.io/github/license/Dragon1573/PyChallenge-Tips?color=important&label=Licence&style=flat-square)](https://github.com/Dragon1573/PyChallenge-Tips/blob/master/LICENSE)\n",
    "[![Jump to Level 22](https://img.shields.io/badge/Jump%20to-Level%2022-blue?style=flat-square)](http://www.pythonchallenge.com/pc/hex/copper.html)\n",
    "\n",
    "<center><img src=\"../../resources/imgs/Quiz22-1.png\" /></center>"
   ]
  },
  {
   "cell_type": "markdown",
   "metadata": {},
   "source": [
    "&emsp;&emsp;先看看关卡源代码："
   ]
  },
  {
   "cell_type": "code",
   "execution_count": 1,
   "metadata": {},
   "outputs": [],
   "source": [
    "from requests import get\n",
    "from bs4 import BeautifulSoup as Soup"
   ]
  },
  {
   "cell_type": "code",
   "execution_count": 2,
   "metadata": {},
   "outputs": [
    {
     "name": "stdout",
     "output_type": "stream",
     "text": [
      "or maybe white.gif would be more bright\n"
     ]
    }
   ],
   "source": [
    "response = get(\n",
    "    'http://www.pythonchallenge.com/pc/hex/copper.html',\n",
    "    headers={'Authorization': 'Basic YnV0dGVyOmZseQ=='}\n",
    ")\n",
    "response = Soup(response.text, features='html5lib')\n",
    "print(response.center.contents[4].strip())"
   ]
  },
  {
   "cell_type": "markdown",
   "metadata": {},
   "source": [
    "&emsp;&emsp;关卡中的注释提示我们`white.gif`可能会更加明亮。那把它显示出来看看？"
   ]
  },
  {
   "cell_type": "code",
   "execution_count": 3,
   "metadata": {},
   "outputs": [],
   "source": [
    "from IPython.display import display\n",
    "from io import BytesIO\n",
    "from PIL import Image"
   ]
  },
  {
   "cell_type": "code",
   "execution_count": 4,
   "metadata": {},
   "outputs": [
    {
     "data": {
      "image/png": "[encoded data removed]",
      "text/plain": [
       "<PIL.GifImagePlugin.GifImageFile image mode=P size=200x200 at 0x2AD21CFEF08>"
      ]
     },
     "metadata": {},
     "output_type": "display_data"
    }
   ],
   "source": [
    "response = get(\n",
    "    'http://www.pythonchallenge.com/pc/hex/white.gif',\n",
    "    headers={'Authorization': 'Basic YnV0dGVyOmZseQ=='}\n",
    ")\n",
    "response = Image.open(BytesIO(response.content))\n",
    "display(response)"
   ]
  },
  {
   "cell_type": "markdown",
   "metadata": {},
   "source": [
    "&emsp;&emsp;嗯？为什么是黑的？不是`white.gif`吗？纯黑色的像素值，那么尝试获取每一帧中像素值不为0的坐标。"
   ]
  },
  {
   "cell_type": "code",
   "execution_count": 5,
   "metadata": {},
   "outputs": [],
   "source": [
    "import pandas"
   ]
  },
  {
   "cell_type": "code",
   "execution_count": 6,
   "metadata": {},
   "outputs": [
    {
     "name": "stdout",
     "output_type": "stream",
     "text": [
      "       x    y  pix\n",
      "0    100  100    8\n",
      "1    100  102    8\n",
      "2    100  102    8\n",
      "3    100  102    8\n",
      "4    100  102    8\n",
      "..   ...  ...  ...\n",
      "128   98  100    8\n",
      "129   98  100    8\n",
      "130   98  100    8\n",
      "131   98  100    8\n",
      "132   98   98    8\n",
      "\n",
      "[133 rows x 3 columns]\n"
     ]
    }
   ],
   "source": [
    "k = 0\n",
    "sequence = []\n",
    "while True:\n",
    "    try:\n",
    "        response.seek(k)\n",
    "        for x in range(response.size[0]):\n",
    "            for y in range(response.size[1]):\n",
    "                pixel = response.getpixel((x, y))\n",
    "                if pixel != 0:\n",
    "                    sequence.append((x, y, pixel))\n",
    "        k += 1\n",
    "    except:\n",
    "        break\n",
    "sequence = pandas.DataFrame(sequence, columns=['x', 'y', 'pix'])\n",
    "print(sequence)"
   ]
  },
  {
   "cell_type": "markdown",
   "metadata": {},
   "source": [
    "&emsp;&emsp;现在，我们得到了动态图133帧中每帧微亮像素点的坐标。试着看看这些值有没有什么不同。"
   ]
  },
  {
   "cell_type": "code",
   "execution_count": 7,
   "metadata": {},
   "outputs": [
    {
     "name": "stdout",
     "output_type": "stream",
     "text": [
      "         pix\n",
      "x   y       \n",
      "98  98     5\n",
      "    100   25\n",
      "    102    6\n",
      "100 98    14\n",
      "    100    5\n",
      "    102   31\n",
      "102 98     9\n",
      "    100   28\n",
      "    102   10\n"
     ]
    }
   ],
   "source": [
    "print(sequence.groupby(by=['x', 'y']).count())"
   ]
  },
  {
   "cell_type": "markdown",
   "metadata": {},
   "source": [
    "&emsp;&emsp;表格中的坐标共9种，结合关卡主图（一个游戏摇杆），大致判断这些坐标是用来表达方位的。"
   ]
  },
  {
   "cell_type": "code",
   "execution_count": 8,
   "metadata": {},
   "outputs": [
    {
     "data": {
      "image/png": "[encoded data removed]",
      "text/plain": [
       "<PIL.Image.Image image mode=P size=130x30 at 0x2AD23710208>"
      ]
     },
     "metadata": {},
     "output_type": "display_data"
    }
   ],
   "source": [
    "image = Image.new(response.mode, (130, 30))\n",
    "coordinate = [-20, 15]\n",
    "for row in sequence.itertuples(index=False):\n",
    "    if row[:2] == (100, 100):\n",
    "        coordinate[0] += 25\n",
    "        coordinate[1] = 15\n",
    "    else:\n",
    "        coordinate[0] += (row[0] - 100) // 2\n",
    "        coordinate[1] += (row[1] - 100) // 2\n",
    "    image.putpixel(coordinate, 255)\n",
    "display(image)"
   ]
  },
  {
   "cell_type": "markdown",
   "metadata": {},
   "source": [
    "&emsp;&emsp;根据方位指示画出图形，可以在图片中看到单词`bonus`，所以下一关的链接为<http://www.pythonchallenge.com/pc/hex/bonus.html>。"
   ]
  }
 ],
 "metadata": {
  "kernelspec": {
   "display_name": "Python 3",
   "language": "python",
   "name": "python3"
  },
  "language_info": {
   "codemirror_mode": {
    "name": "ipython",
    "version": 3
   },
   "file_extension": ".py",
   "mimetype": "text/x-python",
   "name": "python",
   "nbconvert_exporter": "python",
   "pygments_lexer": "ipython3",
   "version": "3.7.5"
  }
 },
 "nbformat": 4,
 "nbformat_minor": 4
}
