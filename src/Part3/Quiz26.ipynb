{
 "cells": [
  {
   "cell_type": "markdown",
   "metadata": {},
   "source": [
    "# Be a man - Apologize!\n",
    "\n",
    "[![GitHub License](https://img.shields.io/github/license/Dragon1573/PyChallenge-Tips?color=important&label=Licence&style=flat-square)](https://github.com/Dragon1573/PyChallenge-Tips/blob/master/LICENSE)\n",
    "[![Jump to Level 26](https://img.shields.io/badge/Jump%20to-Level%2026-blue?style=flat-square)](http://www.pythonchallenge.com/pc/hex/decent.html)\n",
    "\n",
    "<center><img src=\"../../resources/imgs/Quiz26-1.png\" /></center>"
   ]
  },
  {
   "cell_type": "code",
   "execution_count": 1,
   "metadata": {},
   "outputs": [],
   "source": [
    "from requests import get\n",
    "from bs4 import BeautifulSoup as Soup"
   ]
  },
  {
   "cell_type": "code",
   "execution_count": 2,
   "metadata": {},
   "outputs": [
    {
     "name": "stdout",
     "output_type": "stream",
     "text": [
      "be a man - apologize!\n",
      "you've got his e-mail\n",
      "Hurry up, I'm missing the boat\n"
     ]
    }
   ],
   "source": [
    "response = get(\n",
    "    'http://www.pythonchallenge.com/pc/hex/decent.html',\n",
    "    headers={'Authorization': 'Basic YnV0dGVyOmZseQ=='}\n",
    ")\n",
    "response = Soup(response.text, features='html5lib')\n",
    "print(response.title.text.strip())\n",
    "print(response.img.next.next.strip())\n",
    "print(response.font.text.strip())"
   ]
  },
  {
   "cell_type": "markdown",
   "metadata": {},
   "source": [
    "&emsp;&emsp;电子邮件是怎么回事？我们已经收到了他的电子邮件？是列奥波尔德·莫扎特（<leopold.moz@pythonchallenge.com>）吗？关卡标题要求我们向列奥波尔德道歉，那我们就通过电子邮件向这个邮件地址发送一封道歉信。\n",
    "\n",
    "<center><img src=\"../../resources/imgs/Quiz26-2.png\" /></center>\n",
    "\n",
    "&emsp;&emsp;一段时间后，列奥波尔德给我们回信了。\n",
    "\n",
    "<center><img src=\"../../resources/imgs/Quiz26-3.png\" /></center>\n",
    "\n",
    "&emsp;&emsp;回信中，列奥波尔德提到了那个损坏的压缩包`mybroken.zip`，告诉我们这个压缩包存在一个错误。由于`MD5`是一种散列信息摘要算法，无法通过摘要还原数据，只能通过暴力破解尝试还原。"
   ]
  },
  {
   "cell_type": "code",
   "execution_count": 3,
   "metadata": {},
   "outputs": [],
   "source": [
    "from zipfile import ZipFile, ZIP_DEFLATED\n",
    "from hashlib import md5\n",
    "from PIL import Image"
   ]
  },
  {
   "cell_type": "code",
   "execution_count": 4,
   "metadata": {},
   "outputs": [],
   "source": [
    "\"\"\" 暴力纠错 \"\"\"\n",
    "with open('maze/mybroken.zip', 'rb+') as file:\n",
    "    data = file.read()\n",
    "    for i in range(len(data)):\n",
    "        flag = False\n",
    "        for j in range(256):\n",
    "            new = data[:i] + bytes([j]) + data[i + 1:]\n",
    "            if md5(new).hexdigest() == 'bbb8b499a0eef99b52c7f13f4e78c24b':\n",
    "                file.write(new)\n",
    "                flag = True\n",
    "                break\n",
    "        if flag:\n",
    "            break"
   ]
  },
  {
   "cell_type": "code",
   "execution_count": 5,
   "metadata": {},
   "outputs": [
    {
     "data": {
      "image/png": "[encoded data removed]",
      "text/plain": [
       "<PIL.GifImagePlugin.GifImageFile image mode=P size=150x100 at 0x165A78FB988>"
      ]
     },
     "metadata": {},
     "output_type": "display_data"
    }
   ],
   "source": [
    "with ZipFile('maze/mybroken.zip', mode='r', compression=ZIP_DEFLATED) as archives:\n",
    "    display(Image.open(archives.open('mybroken.gif')))"
   ]
  },
  {
   "cell_type": "markdown",
   "metadata": {},
   "source": [
    "&emsp;&emsp;上面的提示中说到了`I'm missing the boat.` ，因此下一关的链接应该是<http://www.pythonchallenge.com/pc/hex/speedboat.html>。"
   ]
  }
 ],
 "metadata": {
  "kernelspec": {
   "display_name": "Python 3",
   "language": "python",
   "name": "python3"
  },
  "language_info": {
   "codemirror_mode": {
    "name": "ipython",
    "version": 3
   },
   "file_extension": ".py",
   "mimetype": "text/x-python",
   "name": "python",
   "nbconvert_exporter": "python",
   "pygments_lexer": "ipython3",
   "version": "3.7.6"
  }
 },
 "nbformat": 4,
 "nbformat_minor": 4
}
