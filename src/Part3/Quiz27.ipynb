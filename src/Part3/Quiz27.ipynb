{
 "cells": [
  {
   "cell_type": "markdown",
   "metadata": {},
   "source": [
    "# Between the tables\n",
    "\n",
    "[![GitHub License](https://img.shields.io/github/license/Dragon1573/PyChallenge-Tips?color=important&label=Licence&style=flat-square)](https://github.com/Dragon1573/PyChallenge-Tips/blob/master/LICENSE)\n",
    "[![Jump to Level 27](https://img.shields.io/badge/Jump%20to-Level%2027-blue?style=flat-square)](http://www.pythonchallenge.com/pc/hex/speedboat.html)\n",
    "\n",
    "<center><img src=\"../../resources/imgs/Quiz27-1.png\" /></center>"
   ]
  },
  {
   "cell_type": "code",
   "execution_count": 1,
   "metadata": {},
   "outputs": [],
   "source": [
    "from requests import get\n",
    "from bs4 import BeautifulSoup as Soup"
   ]
  },
  {
   "cell_type": "code",
   "execution_count": 2,
   "metadata": {},
   "outputs": [
    {
     "name": "stdout",
     "output_type": "stream",
     "text": [
      "<html>\n",
      " <head>\n",
      "  <title>\n",
      "   between the tables\n",
      "  </title>\n",
      "  <link href=\"../style.css\" rel=\"stylesheet\" type=\"text/css\"/>\n",
      " </head>\n",
      " <body>\n",
      "  <center>\n",
      "   <br/>\n",
      "   <br/>\n",
      "   <a href=\"../ring/bell.html\">\n",
      "    <img src=\"zigzag.jpg\"/>\n",
      "    <!-- did you say gif? -->\n",
      "   </a>\n",
      "  </center>\n",
      " </body>\n",
      "</html>\n",
      "<!-- oh, and this is NOT a repeat of 14 -->\n",
      "<!--\n",
      "Join us at the IRC: irc.freenode.net #pythonchallenge\n",
      "-->\n",
      "\n"
     ]
    }
   ],
   "source": [
    "response = get(\n",
    "    'http://www.pythonchallenge.com/pc/hex/speedboat.html',\n",
    "    headers={'Authorization': 'Basic YnV0dGVyOmZseQ=='}\n",
    ")\n",
    "response = Soup(response.text, features='html5lib')\n",
    "print(response.prettify())"
   ]
  },
  {
   "cell_type": "markdown",
   "metadata": {},
   "source": [
    "&emsp;&emsp;关卡源代码中出现了`<a />`代码段，其直接指向下一关卡的链接。点击链接，需要输入新的用户名和密码用于登录，那么第27关应该是需要我们通过解谜获得用户名和密码，关键词共有2个。同时，源代码给我们提示了文件`zigzag.gif`，先去这里看看。"
   ]
  },
  {
   "cell_type": "code",
   "execution_count": 3,
   "metadata": {},
   "outputs": [],
   "source": [
    "from io import BytesIO\n",
    "from PIL import Image"
   ]
  },
  {
   "cell_type": "code",
   "execution_count": 4,
   "metadata": {},
   "outputs": [
    {
     "name": "stdout",
     "output_type": "stream",
     "text": [
      "Mode of image: P\n"
     ]
    },
    {
     "data": {
      "image/png": "[encoded data removed]",
      "text/plain": [
       "<PIL.GifImagePlugin.GifImageFile image mode=P size=320x270 at 0x174637B1988>"
      ]
     },
     "metadata": {},
     "output_type": "display_data"
    }
   ],
   "source": [
    "response = get(\n",
    "    'http://www.pythonchallenge.com/pc/hex/zigzag.gif',\n",
    "    headers={'Authorization': 'Basic YnV0dGVyOmZseQ=='}\n",
    ")\n",
    "gif = Image.open(BytesIO(response.content))\n",
    "print('Mode of image:', gif.mode)\n",
    "display(gif)"
   ]
  },
  {
   "cell_type": "markdown",
   "metadata": {},
   "source": [
    "&emsp;&emsp;可以看到，这张图片如同花屏的老电视一样，根本无法传递任何信息。但请注意，图片的存储模式为`P`，也就是处在`palette`（索引颜色模式），原本需要4B/px的RGBA全彩图像只需要1B/px的索引外加一定长度的色彩索引表就能正确表达。既然知道了这种图像模式，我们需要通过色彩索引对图像进行还原。"
   ]
  },
  {
   "cell_type": "code",
   "execution_count": 5,
   "metadata": {},
   "outputs": [
    {
     "data": {
      "image/png": "[encoded data removed]",
      "text/plain": [
       "<PIL.Image.Image image mode=L size=320x270 at 0x17463847108>"
      ]
     },
     "metadata": {},
     "output_type": "display_data"
    }
   ],
   "source": [
    "\"\"\" 获取图像二进制数据 \"\"\"\n",
    "data = gif.tobytes()\n",
    "converted = gif.convert('L').tobytes()\n",
    "\"\"\" 对齐转换后的数据，寻找差异 \"\"\"\n",
    "zipped = list(zip(data[1:], converted[:-1]))\n",
    "indices = [i for (i, p) in enumerate(zipped) if p[0] != p[1]]\n",
    "new = Image.new('L', gif.size)\n",
    "color = [255,] * len(data)\n",
    "for i in indices:\n",
    "    color[i] = 0\n",
    "new.putdata(color)\n",
    "display(new)"
   ]
  },
  {
   "cell_type": "markdown",
   "metadata": {},
   "source": [
    "&emsp;&emsp;图片的意思是`Not keyword`，并不是下一关的账号和密码。试试由差异组成的信息。"
   ]
  },
  {
   "cell_type": "code",
   "execution_count": 6,
   "metadata": {},
   "outputs": [],
   "source": [
    "from bz2 import decompress\n",
    "from keyword import iskeyword"
   ]
  },
  {
   "cell_type": "code",
   "execution_count": 7,
   "metadata": {},
   "outputs": [
    {
     "name": "stdout",
     "output_type": "stream",
     "text": [
      "{'../ring/bell.html', 'print', 'repeat', 'exec', 'switch'}\n"
     ]
    }
   ],
   "source": [
    "differences = [p[0] for p in zipped if p[0] != p[1]]\n",
    "text = decompress(bytes(differences)).decode()\n",
    "print(set(i for i in text.split() if not iskeyword(i)))"
   ]
  },
  {
   "cell_type": "markdown",
   "metadata": {},
   "source": [
    "&emsp;&emsp;在上面5个元素中，`repeat`和`switch`是用户名和密码。"
   ]
  }
 ],
 "metadata": {
  "kernelspec": {
   "display_name": "Python 3",
   "language": "python",
   "name": "python3"
  },
  "language_info": {
   "codemirror_mode": {
    "name": "ipython",
    "version": 3
   },
   "file_extension": ".py",
   "mimetype": "text/x-python",
   "name": "python",
   "nbconvert_exporter": "python",
   "pygments_lexer": "ipython3",
   "version": "3.7.6"
  }
 },
 "nbformat": 4,
 "nbformat_minor": 4
}
