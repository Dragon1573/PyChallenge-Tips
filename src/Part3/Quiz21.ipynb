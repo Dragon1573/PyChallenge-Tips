{
 "cells": [
  {
   "cell_type": "markdown",
   "metadata": {},
   "source": [
    "# Pass the parcel\n",
    "\n",
    "[![GitHub License](https://img.shields.io/github/license/Dragon1573/PyChallenge-Tips?color=important&label=Licence&style=flat-square)](https://github.com/Dragon1573/PyChallenge-Tips/blob/master/LICENSE)\n",
    "\n",
    "&emsp;&emsp;还记得上一关最后获得的压缩包吗？"
   ]
  },
  {
   "cell_type": "code",
   "execution_count": 1,
   "metadata": {},
   "outputs": [],
   "source": [
    "from requests import get\n",
    "from io import BytesIO\n",
    "from zipfile import ZipFile"
   ]
  },
  {
   "cell_type": "code",
   "execution_count": 2,
   "metadata": {},
   "outputs": [
    {
     "name": "stdout",
     "output_type": "stream",
     "text": [
      "readme.txt\n",
      "package.pack\n"
     ]
    }
   ],
   "source": [
    "response = get(\n",
    "    'http://www.pythonchallenge.com/pc/hex/unreal.jpg',\n",
    "    headers={\n",
    "        'Authorization': 'Basic YnV0dGVyOmZseQ==',\n",
    "        'Range': 'bytes=1152983631-'\n",
    "    }\n",
    ")\n",
    "file = ZipFile(BytesIO(response.content))\n",
    "print('\\n'.join(file.namelist()))"
   ]
  },
  {
   "cell_type": "markdown",
   "metadata": {},
   "source": [
    "&emsp;&emsp;让我们先看看`readme.txt`的内容。"
   ]
  },
  {
   "cell_type": "code",
   "execution_count": 3,
   "metadata": {},
   "outputs": [
    {
     "name": "stdout",
     "output_type": "stream",
     "text": [
      "Yes! This is really level 21 in here. \n",
      "And yes, After you solve it, you'll be in level 22!\n",
      "\n",
      "Now for the level:\n",
      "\n",
      "* We used to play this game when we were kids\n",
      "* When I had no idea what to do, I looked backwards.\n"
     ]
    }
   ],
   "source": [
    "readme = file.open('readme.txt', mode='r', pwd='redavni'.encode())\n",
    "print(readme.read().decode().strip())"
   ]
  },
  {
   "cell_type": "markdown",
   "metadata": {},
   "source": [
    "&emsp;&emsp;设计者的2个提示非常重要：\n",
    "\n",
    "- 我们在**小时候**玩过这种**游戏**\n",
    "- 当我不知道该怎么做的时候，我会**倒着**看。\n",
    "\n",
    "&emsp;&emsp;根据文件的`*.pack`后缀名，我们判断这是一个西方版的**击鼓传花**。与中国玩法不同，西方的击鼓传花（Pass the parcel）是用于分发礼物的，礼物会使用任意方式封装超过10层，每轮游戏都会从最外面向内拆除一层，直到最后一层被拆除获得礼品。试试看吧……"
   ]
  },
  {
   "cell_type": "code",
   "execution_count": 4,
   "metadata": {},
   "outputs": [],
   "source": [
    "from zlib import decompress as ZlibExtract\n",
    "from bz2 import decompress as BzipExtract"
   ]
  },
  {
   "cell_type": "code",
   "execution_count": 6,
   "metadata": {},
   "outputs": [
    {
     "name": "stdout",
     "output_type": "stream",
     "text": [
      "look at your logs\n",
      "      XXX          XXX      XXXXXXXX    XXXXXXXX    XXXXXXXXXX  XXXXXXXX\n",
      "    XXXXXXX      XXXXXXX    XXXXXXXXX   XXXXXXXXX   XXXXXXXXX   XXXXXXXXX\n",
      "   XX     XX    XX     XX   XX      XX  XX      XX  XX          XX      XX\n",
      "  XX           XX       XX  XX      XX  XX      XX  XX          XX      XX\n",
      "  XX           XX       XX  XXXXXXXXX   XXXXXXXXX   XXXXXXXX    XXXXXXXXX\n",
      "  XX           XX       XX  XXXXXXXX    XXXXXXXX    XXXXXXXX    XXXXXXXX \n",
      "  XX           XX       XX  XX          XX          XX          XX   XX \n",
      "   XX     XX    XX     XX   XX          XX          XX          XX    XX \n",
      "    XXXXXXX      XXXXXXX    XX          XX          XXXXXXXXX   XX     XX \n",
      "      XXX          XXX      XX          XX          XXXXXXXXXX  XX      XX\n"
     ]
    }
   ],
   "source": [
    "# 打开文件\n",
    "package = file.open('package.pack', mode='r', pwd='redavni'.encode())\n",
    "# 读取二进制数据\n",
    "package = package.read()\n",
    "# 创建解压日志\n",
    "logs = []\n",
    "while True:\n",
    "    if package[:1] == b'x':\n",
    "        # zlib 格式文件头\n",
    "        package = ZlibExtract(package)\n",
    "        logs.append(' ')\n",
    "    elif package[:2] == b'BZ':\n",
    "        # bz2 格式文件头\n",
    "        package = BzipExtract(package)\n",
    "        logs.append('X')\n",
    "    elif package[-1:] == b'x':\n",
    "        # 翻转文件数据\n",
    "        package = package[::-1]\n",
    "        logs.append('\\n')\n",
    "    else:\n",
    "        # 获得最终内容\n",
    "        break\n",
    "# 最终的提示是反的，直接翻转\n",
    "print(package.decode()[::-1])\n",
    "# 打印日志\n",
    "print(''.join(logs))"
   ]
  },
  {
   "cell_type": "markdown",
   "metadata": {},
   "source": [
    "&emsp;&emsp;提示要求我们去查看解压日志（已经将这一步添加在上面的代码中），可以看到日志组成了字符画`copper`。所以，下一关的链接为<http://www.pythonchallenge.com/pc/hex/copper.html>。"
   ]
  }
 ],
 "metadata": {
  "kernelspec": {
   "display_name": "Python 3",
   "language": "python",
   "name": "python3"
  },
  "language_info": {
   "codemirror_mode": {
    "name": "ipython",
    "version": 3
   },
   "file_extension": ".py",
   "mimetype": "text/x-python",
   "name": "python",
   "nbconvert_exporter": "python",
   "pygments_lexer": "ipython3",
   "version": "3.7.5"
  }
 },
 "nbformat": 4,
 "nbformat_minor": 4
}
