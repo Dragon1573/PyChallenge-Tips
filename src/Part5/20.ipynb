{
 "cells": [
  {
   "cell_type": "markdown",
   "metadata": {},
   "source": [
    "# Day 20: Go Away!"
   ]
  },
  {
   "cell_type": "code",
   "execution_count": 1,
   "metadata": {},
   "outputs": [],
   "source": [
    "import requests\n",
    "import re"
   ]
  },
  {
   "cell_type": "code",
   "execution_count": 2,
   "metadata": {},
   "outputs": [
    {
     "name": "stdout",
     "output_type": "stream",
     "text": [
      "b\"Why don't you respect my privacy?\\n\"\n",
      "b'we can go on in this way for really long time.\\n'\n",
      "b'stop this!\\n'\n",
      "b'invader! invader!\\n'\n",
      "b'ok, invader. you are inside now. \\n'\n"
     ]
    }
   ],
   "source": [
    "url = 'http://www.pythonchallenge.com/pc/hex/unreal.jpg'\n",
    "header = {'Authorization': 'Basic YnV0dGVyOmZseQ=='}\n",
    "pattern = re.compile(r'-(\\d+)')\n",
    "start = 30203\n",
    "while True:\n",
    "    header['Range'] = 'bytes={0}-'.format(start)\n",
    "    response = requests.post(url, headers=header)\n",
    "    if response.content:\n",
    "        start = int(pattern.search(response.headers['content-range']).group(1)) + 1\n",
    "        print(response.content)\n",
    "    else:\n",
    "        break"
   ]
  }
 ],
 "metadata": {
  "kernelspec": {
   "display_name": "Python 3",
   "language": "python",
   "name": "python3"
  },
  "language_info": {
   "codemirror_mode": {
    "name": "ipython",
    "version": 3
   },
   "file_extension": ".py",
   "mimetype": "text/x-python",
   "name": "python",
   "nbconvert_exporter": "python",
   "pygments_lexer": "ipython3",
   "version": "3.7.5"
  }
 },
 "nbformat": 4,
 "nbformat_minor": 4
}
