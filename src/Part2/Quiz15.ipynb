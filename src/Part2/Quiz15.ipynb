{
 "cells": [
  {
   "cell_type": "markdown",
   "metadata": {},
   "source": [
    "# Whom?\n",
    "\n",
    "[![GitHub License](https://img.shields.io/github/license/Dragon1573/PyChallenge-Tips?color=important&label=Licence&style=flat-square)](https://github.com/Dragon1573/PyChallenge-Tips/blob/master/LICENSE)\n",
    "[![Jump to Level 15](https://img.shields.io/badge/Jump%20to-Level%2015-blue?style=flat-square)](http://www.pythonchallenge.com/pc/return/uzi.html)\n",
    "\n",
    "<center><img src=\"../../resources/imgs/Quiz15-1.png\" /></center>"
   ]
  },
  {
   "cell_type": "markdown",
   "metadata": {},
   "source": [
    "&emsp;&emsp;通过关卡图片，我们可以获得以下重要信息：\n",
    "\n",
    "- 当年是1xx6年\n",
    "- 当年1月26日为周一\n",
    "- 放大图片右下角，二月有29天，因此当年是闰年\n",
    "\n",
    "&emsp;&emsp;获取关卡源代码，进一步分析线索。"
   ]
  },
  {
   "cell_type": "code",
   "execution_count": 1,
   "metadata": {
    "jupyter": {
     "source_hidden": true
    }
   },
   "outputs": [],
   "source": [
    "from requests import post\n",
    "from bs4 import BeautifulSoup as Soup"
   ]
  },
  {
   "cell_type": "code",
   "execution_count": 2,
   "metadata": {},
   "outputs": [
    {
     "name": "stdout",
     "output_type": "stream",
     "text": [
      "<html>\n",
      " <head>\n",
      "  <title>\n",
      "   whom?\n",
      "  </title>\n",
      "  <link href=\"../style.css\" rel=\"stylesheet\" type=\"text/css\"/>\n",
      " </head>\n",
      " <body>\n",
      "  <br/>\n",
      "  <center>\n",
      "   <!-- he ain't the youngest, he is the second -->\n",
      "   <img src=\"screen15.jpg\"/>\n",
      "   <br/>\n",
      "  </center>\n",
      " </body>\n",
      "</html>\n",
      "<!-- todo: buy flowers for tomorrow -->\n",
      "\n"
     ]
    }
   ],
   "source": [
    "response = post(\n",
    "    'http://www.pythonchallenge.com/pc/return/uzi.html',\n",
    "    headers={'Authorization': 'Basic aHVnZTpmaWxl'}\n",
    ")\n",
    "response = Soup(response.text, features='html.parser')\n",
    "print(response.prettify())"
   ]
  },
  {
   "cell_type": "markdown",
   "metadata": {},
   "source": [
    "&emsp;&emsp;`<center />`标签中有两句注释：\n",
    "\n",
    "1. 他不是年龄最小的，他是第2小的\n",
    "2. 待办事项：为明天买花\n",
    "\n",
    "&emsp;&emsp;它们也是关键提示。因为符合以上3个条件的年份可能不止1个，还需要通过这个提示进一步筛选。"
   ]
  },
  {
   "cell_type": "code",
   "execution_count": 3,
   "metadata": {},
   "outputs": [],
   "source": [
    "import calendar\n",
    "import datetime"
   ]
  },
  {
   "cell_type": "code",
   "execution_count": 4,
   "metadata": {},
   "outputs": [
    {
     "name": "stdout",
     "output_type": "stream",
     "text": [
      "1756\n"
     ]
    }
   ],
   "source": [
    "years = []\n",
    "for year in range(1006, 1997, 10):\n",
    "    # 获取日期\n",
    "    date = datetime.datetime(year, 1, 27)\n",
    "    # 闰年和星期判断\n",
    "    if calendar.isleap(year) and date.weekday() == 1:\n",
    "        years.append(year)\n",
    "# 逆序排列\n",
    "years.sort(reverse=True)\n",
    "# 获得第2大（年龄第2小）的值\n",
    "print(years[1])"
   ]
  },
  {
   "cell_type": "markdown",
   "metadata": {},
   "source": [
    "&emsp;&emsp;公元1756年1月27日，世界著名音乐大师沃尔夫冈·阿玛多伊斯·**莫扎特**出生，因此下一关的链接为<http://www.pythonchallenge.com/pc/return/mozart.html>。"
   ]
  }
 ],
 "metadata": {
  "kernelspec": {
   "display_name": "Python 3",
   "language": "python",
   "name": "python3"
  },
  "language_info": {
   "codemirror_mode": {
    "name": "ipython",
    "version": 3
   },
   "file_extension": ".py",
   "mimetype": "text/x-python",
   "name": "python",
   "nbconvert_exporter": "python",
   "pygments_lexer": "ipython3",
   "version": "3.7.5"
  }
 },
 "nbformat": 4,
 "nbformat_minor": 4
}
