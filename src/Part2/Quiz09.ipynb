{
 "cells": [
  {
   "cell_type": "markdown",
   "metadata": {},
   "source": [
    "# Connect the dots\n",
    "\n",
    "[![GitHub License](https://img.shields.io/github/license/Dragon1573/PyChallenge-Tips?color=important&label=Licence&style=flat-square)](https://github.com/Dragon1573/PyChallenge-Tips/blob/master/LICENSE)\n",
    "[![Jump to Level 9](https://img.shields.io/badge/Jump%20to-Level%209-blue?style=flat-square)](http://www.pythonchallenge.com/pc/return/good.html)\n",
    "\n",
    "<center><img src=\"../../resources/imgs/Quiz9-1.png\" /></center>"
   ]
  },
  {
   "cell_type": "code",
   "execution_count": 1,
   "metadata": {},
   "outputs": [],
   "source": [
    "from requests import post\n",
    "from bs4 import BeautifulSoup"
   ]
  },
  {
   "cell_type": "code",
   "execution_count": 2,
   "metadata": {},
   "outputs": [
    {
     "name": "stdout",
     "output_type": "stream",
     "text": [
      "<html>\n",
      " <head>\n",
      "  <title>\n",
      "   connect the dots\n",
      "  </title>\n",
      "  <link href=\"../style.css\" rel=\"stylesheet\" type=\"text/css\"/>\n",
      " </head>\n",
      " <body>\n",
      "  <br/>\n",
      "  <br/>\n",
      "  <center>\n",
      "   <img border=\"0\" height=\"480\" src=\"good.jpg\" width=\"640\"/>\n",
      "  </center>\n",
      " </body>\n",
      "</html>\n",
      "<!--\n",
      "To see the solutions to the previous level, replace pc with pcc and add :un:pw\n",
      "\n",
      "i.e. go to: http://www.pythonchallenge.com/pcc/return/good.html:huge:file\n",
      "\n",
      "Join us at the IRC: irc.freenode.net #pythonchallenge\n",
      "\n",
      "-->\n",
      "<!--\n",
      "first+second=?\n",
      "\n",
      "first:\n",
      "146,399,163,403,170,393,169,391,166,386,170,381,170,371,170,355,169,346,167,335,170,329,170,320,170,\n",
      "310,171,301,173,290,178,289,182,287,188,286,190,286,192,291,194,296,195,305,194,307,191,312,190,316,\n",
      "190,321,192,331,193,338,196,341,197,346,199,352,198,360,197,366,197,373,196,380,197,383,196,387,192,\n",
      "389,191,392,190,396,189,400,194,401,201,402,208,403,213,402,216,401,219,397,219,393,216,390,215,385,\n",
      "215,379,213,373,213,365,212,360,210,353,210,347,212,338,213,329,214,319,215,311,215,306,216,296,218,\n",
      "290,221,283,225,282,233,284,238,287,243,290,250,291,255,294,261,293,265,291,271,291,273,289,278,287,\n",
      "279,285,281,280,284,278,284,276,287,277,289,283,291,286,294,291,296,295,299,300,301,304,304,320,305,\n",
      "327,306,332,307,341,306,349,303,354,301,364,301,371,297,375,292,384,291,386,302,393,324,391,333,387,\n",
      "328,375,329,367,329,353,330,341,331,328,336,319,338,310,341,304,341,285,341,278,343,269,344,262,346,\n",
      "259,346,251,349,259,349,264,349,273,349,280,349,288,349,295,349,298,354,293,356,286,354,279,352,268,\n",
      "352,257,351,249,350,234,351,211,352,197,354,185,353,171,351,154,348,147,342,137,339,132,330,122,327,\n",
      "120,314,116,304,117,293,118,284,118,281,122,275,128,265,129,257,131,244,133,239,134,228,136,221,137,\n",
      "214,138,209,135,201,132,192,130,184,131,175,129,170,131,159,134,157,134,160,130,170,125,176,114,176,\n",
      "102,173,103,172,108,171,111,163,115,156,116,149,117,142,116,136,115,129,115,124,115,120,115,115,117,\n",
      "113,120,109,122,102,122,100,121,95,121,89,115,87,110,82,109,84,118,89,123,93,129,100,130,108,132,110,\n",
      "133,110,136,107,138,105,140,95,138,86,141,79,149,77,155,81,162,90,165,97,167,99,171,109,171,107,161,\n",
      "111,156,113,170,115,185,118,208,117,223,121,239,128,251,133,259,136,266,139,276,143,290,148,310,151,\n",
      "332,155,348,156,353,153,366,149,379,147,394,146,399\n",
      "\n",
      "second:\n",
      "156,141,165,135,169,131,176,130,187,134,191,140,191,146,186,150,179,155,175,157,168,157,163,157,159,\n",
      "157,158,164,159,175,159,181,157,191,154,197,153,205,153,210,152,212,147,215,146,218,143,220,132,220,\n",
      "125,217,119,209,116,196,115,185,114,172,114,167,112,161,109,165,107,170,99,171,97,167,89,164,81,162,\n",
      "77,155,81,148,87,140,96,138,105,141,110,136,111,126,113,129,118,117,128,114,137,115,146,114,155,115,\n",
      "158,121,157,128,156,134,157,136,156,136\n",
      "\n",
      "-->\n",
      "\n"
     ]
    }
   ],
   "source": [
    "response = post(\n",
    "    'http://www.pythonchallenge.com/pc/return/good.html',\n",
    "    headers={\n",
    "        'Authorization': 'Basic aHVnZTpmaWxl'\n",
    "    }\n",
    ")\n",
    "page = BeautifulSoup(response.text, features='html.parser')\n",
    "print(page.prettify())"
   ]
  },
  {
   "cell_type": "markdown",
   "metadata": {},
   "source": [
    "&emsp;&emsp;源代码最后的注释值其实是坐标点，我们需要通过`PIL.ImageDraw`来绘制图形。画布大小可以通过在新窗口打开图片获得，值为$640\\times487$。"
   ]
  },
  {
   "cell_type": "code",
   "execution_count": 3,
   "metadata": {},
   "outputs": [],
   "source": [
    "from re import findall, search\n",
    "from PIL import Image\n",
    "from PIL import ImageDraw"
   ]
  },
  {
   "cell_type": "code",
   "execution_count": 4,
   "metadata": {},
   "outputs": [
    {
     "data": {
      "image/png": "[encoded data removed]",
      "text/plain": [
       "<PIL.Image.Image image mode=L size=640x487 at 0x1CF3049DFC8>"
      ]
     },
     "metadata": {},
     "output_type": "display_data"
    }
   ],
   "source": [
    "background = Image.new('L', (640, 487))\n",
    "drawer = ImageDraw.Draw(background)\n",
    "first = search(r'first:(.*)second', response.text.replace('\\n', '')).group(1)\n",
    "first = findall(r'\\d+', first)\n",
    "drawer.line([int(value) for value in first], fill=255)\n",
    "second = search(r'second:(.*)-->', response.text.replace('\\n', '')).group(1)\n",
    "second = findall(r'\\d+', second)\n",
    "drawer.line([int(value) for value in second], fill=255)\n",
    "display(background)"
   ]
  },
  {
   "cell_type": "markdown",
   "metadata": {},
   "source": [
    "&emsp;&emsp;可以看到，多边形曲线拼成了一头牛，试试`cow.html`？"
   ]
  },
  {
   "cell_type": "code",
   "execution_count": 5,
   "metadata": {},
   "outputs": [
    {
     "name": "stdout",
     "output_type": "stream",
     "text": [
      "hmm. it's a male.\n",
      "\n"
     ]
    }
   ],
   "source": [
    "response = post(\n",
    "    'http://www.pythonchallenge.com/pc/return/cow.html',\n",
    "    headers={\n",
    "        'Authorization': 'Basic aHVnZTpmaWxl'\n",
    "    }\n",
    ")\n",
    "page = BeautifulSoup(response.text, features='html.parser')\n",
    "print(page.prettify())"
   ]
  },
  {
   "cell_type": "markdown",
   "metadata": {},
   "source": [
    "&emsp;&emsp;公牛？那就是`bull`了。所以下一关的链接为：<http://www.pythonchallenge.com/pc/return/bull.html>。"
   ]
  }
 ],
 "metadata": {
  "kernelspec": {
   "display_name": "Python 3",
   "language": "python",
   "name": "python3"
  },
  "language_info": {
   "codemirror_mode": {
    "name": "ipython",
    "version": 3
   },
   "file_extension": ".py",
   "mimetype": "text/x-python",
   "name": "python",
   "nbconvert_exporter": "python",
   "pygments_lexer": "ipython3",
   "version": "3.7.5"
  }
 },
 "nbformat": 4,
 "nbformat_minor": 4
}
