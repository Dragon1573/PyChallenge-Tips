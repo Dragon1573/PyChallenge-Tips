{
 "cells": [
  {
   "cell_type": "markdown",
   "metadata": {},
   "source": [
    "# Call him\n",
    "\n",
    "[![GitHub License](https://img.shields.io/github/license/Dragon1573/PyChallenge-Tips?color=important&label=Licence&style=flat-square)](https://github.com/Dragon1573/PyChallenge-Tips/blob/master/LICENSE)\n",
    "[![Jump to Level 13](https://img.shields.io/badge/Jump%20to-Level%2013-blue?style=flat-square)](http://www.pythonchallenge.com/pc/return/disproportional.html)\n",
    "\n",
    "<center>\n",
    "    <img src=\"../../resources/imgs/Quiz13-1.png\" />\n",
    "    <br />\n",
    "    <font color=\"gold\">\n",
    "        <b>phone that <remote /> evil</b>\n",
    "    </font>\n",
    "</center>"
   ]
  },
  {
   "cell_type": "markdown",
   "metadata": {},
   "source": [
    "&emsp;&emsp;*打电话给那个恶魔*。恶魔是谁？\n",
    "\n",
    "&emsp;&emsp;在[第12关](http://www.pythonchallenge.com/pc/return/evil.html)中，`evil3.jpg`写的是`No more evils ...`。省略号意味深长，是不是说后面其实还有文件？尝试获取`evil4.jpg`。"
   ]
  },
  {
   "cell_type": "code",
   "execution_count": 1,
   "metadata": {},
   "outputs": [],
   "source": [
    "from requests import post"
   ]
  },
  {
   "cell_type": "code",
   "execution_count": 2,
   "metadata": {},
   "outputs": [
    {
     "name": "stdout",
     "output_type": "stream",
     "text": [
      "Bert is evil! go back!\n",
      "\n"
     ]
    }
   ],
   "source": [
    "response = post(\n",
    "    'http://www.pythonchallenge.com/pc/return/evil4.jpg',\n",
    "    headers={'Authorization': 'Basic aHVnZTpmaWxl'}\n",
    ")\n",
    "print(response.text)"
   ]
  },
  {
   "cell_type": "markdown",
   "metadata": {},
   "source": [
    "&emsp;&emsp;现在，我们知道`Bert`是恶魔了，那么又要如何给他打电话呢？把关卡源码爬下来看看吧。"
   ]
  },
  {
   "cell_type": "code",
   "execution_count": 3,
   "metadata": {},
   "outputs": [],
   "source": [
    "from bs4 import BeautifulSoup"
   ]
  },
  {
   "cell_type": "code",
   "execution_count": 4,
   "metadata": {},
   "outputs": [
    {
     "name": "stdout",
     "output_type": "stream",
     "text": [
      "<html>\n",
      " <head>\n",
      "  <title>\n",
      "   call him\n",
      "  </title>\n",
      "  <link href=\"../style.css\" rel=\"stylesheet\" type=\"text/css\"/>\n",
      " </head>\n",
      " <body>\n",
      "  <center>\n",
      "   <img border=\"0\" height=\"480\" src=\"disprop.jpg\" usemap=\"#evil\" width=\"640\"/>\n",
      "   <map name=\"evil\">\n",
      "    <area coords=\"326,177,45\" href=\"../phonebook.php\" shape=\"circle\"/>\n",
      "   </map>\n",
      "   <font color=\"gold\">\n",
      "   </font>\n",
      "   <br/>\n",
      "   <b>\n",
      "    phone that\n",
      "    <remote>\n",
      "    </remote>\n",
      "    evil\n",
      "   </b>\n",
      "  </center>\n",
      " </body>\n",
      "</html>\n",
      "\n"
     ]
    }
   ],
   "source": [
    "response = post(\n",
    "    'http://www.pythonchallenge.com/pc/return/disproportional.html',\n",
    "    headers={'Authorization': 'Basic aHVnZTpmaWxl'}\n",
    ")\n",
    "response = BeautifulSoup(response.text, features='html.parser')\n",
    "print(response.prettify())"
   ]
  },
  {
   "cell_type": "markdown",
   "metadata": {},
   "source": [
    "&emsp;&emsp;中间`<area />`自定义选区链接指向一个PHP动态页面，再看看这个页面是什么。"
   ]
  },
  {
   "cell_type": "code",
   "execution_count": 5,
   "metadata": {},
   "outputs": [
    {
     "name": "stdout",
     "output_type": "stream",
     "text": [
      "<?xml version=\"1.0\" encoding=\"utf-8\"?>\n",
      "<methodResponse>\n",
      " <fault>\n",
      "  <value>\n",
      "   <struct>\n",
      "    <member>\n",
      "     <name>\n",
      "      faultCode\n",
      "     </name>\n",
      "     <value>\n",
      "      <int>\n",
      "       105\n",
      "      </int>\n",
      "     </value>\n",
      "    </member>\n",
      "    <member>\n",
      "     <name>\n",
      "      faultString\n",
      "     </name>\n",
      "     <value>\n",
      "      <string>\n",
      "       XML error: Invalid document end at line 1, column 1\n",
      "      </string>\n",
      "     </value>\n",
      "    </member>\n",
      "   </struct>\n",
      "  </value>\n",
      " </fault>\n",
      "</methodResponse>\n"
     ]
    }
   ],
   "source": [
    "response = post(\n",
    "    'http://www.pythonchallenge.com/pc/phonebook.php',\n",
    "    headers={'Authorization': 'Basic aHVnZTpmaWxl'}\n",
    ")\n",
    "response = BeautifulSoup(response.text, features='xml')\n",
    "print(response.prettify())"
   ]
  },
  {
   "cell_type": "markdown",
   "metadata": {},
   "source": [
    "&emsp;&emsp;Python中有一个`xmlrpc`远程调用模块，有没有可能是通过这个模块实现打电话呢？"
   ]
  },
  {
   "cell_type": "code",
   "execution_count": 6,
   "metadata": {},
   "outputs": [],
   "source": [
    "from xmlrpc import client"
   ]
  },
  {
   "cell_type": "code",
   "execution_count": 7,
   "metadata": {},
   "outputs": [
    {
     "name": "stdout",
     "output_type": "stream",
     "text": [
      "555-ITALY\n"
     ]
    }
   ],
   "source": [
    "print(\n",
    "    client.Server(\n",
    "        'http://www.pythonchallenge.com/pc/phonebook.php'\n",
    "    ).phone('Bert')\n",
    ")"
   ]
  },
  {
   "cell_type": "markdown",
   "metadata": {},
   "source": [
    "&emsp;&emsp;`Bert`的回复中出现了关键词`ITALY`，所以下一关链接为<http://www.pythonchallenge.com/pc/return/italy.html>。"
   ]
  }
 ],
 "metadata": {
  "kernelspec": {
   "display_name": "Python 3",
   "language": "python",
   "name": "python3"
  },
  "language_info": {
   "codemirror_mode": {
    "name": "ipython",
    "version": 3
   },
   "file_extension": ".py",
   "mimetype": "text/x-python",
   "name": "python",
   "nbconvert_exporter": "python",
   "pygments_lexer": "ipython3",
   "version": "3.7.5"
  }
 },
 "nbformat": 4,
 "nbformat_minor": 4
}
