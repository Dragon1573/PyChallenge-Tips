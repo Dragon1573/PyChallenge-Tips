{
 "cells": [
  {
   "cell_type": "markdown",
   "metadata": {},
   "source": [
    "# What are you looking at?\n",
    "\n",
    "[![GitHub License](https://img.shields.io/github/license/Dragon1573/PyChallenge-Tips?color=important&label=Licence&style=flat-square)](https://github.com/Dragon1573/PyChallenge-Tips/blob/master/LICENSE)\n",
    "[![Jump to Level 10](https://img.shields.io/badge/Jump%20to-Level%2010-blue?style=flat-square)](http://www.pythonchallenge.com/pc/return/bull.html)\n",
    "\n",
    "<center>\n",
    "    <img src=\"../../resources/imgs/Quiz10-1.png\" />\n",
    "    <br /><br />\n",
    "    <font color=\"orange\" size=\"+1\">len(a[30]) = ?</font>\n",
    "</center>"
   ]
  },
  {
   "cell_type": "markdown",
   "metadata": {},
   "source": [
    "&emsp;&emsp;$\\text{len}(a_{30})$？那么数列$\\{a_n\\}$是什么？先把关卡爬下来再说。"
   ]
  },
  {
   "cell_type": "code",
   "execution_count": 1,
   "metadata": {},
   "outputs": [],
   "source": [
    "from requests import post\n",
    "from bs4 import BeautifulSoup"
   ]
  },
  {
   "cell_type": "code",
   "execution_count": 2,
   "metadata": {},
   "outputs": [
    {
     "name": "stdout",
     "output_type": "stream",
     "text": [
      "<html>\n",
      " <head>\n",
      "  <title>\n",
      "   what are you looking at?\n",
      "  </title>\n",
      "  <link href=\"../style.css\" rel=\"stylesheet\" type=\"text/css\"/>\n",
      " </head>\n",
      " <body>\n",
      "  <br/>\n",
      "  <br/>\n",
      "  <center>\n",
      "   <img border=\"0\" height=\"480\" src=\"bull.jpg\" usemap=\"#bull\" width=\"640\"/>\n",
      "   <map name=\"bull\">\n",
      "    <area coords=\"146,399,163,403,170,393,169,391,166,386,170,381,170,371,170,355,169,346,167,335,170,329,170,320,170,310,171,301,173,290,178,289,182,287,188,286,190,286,192,291,194,296,195,305,194,307,191,312,190,316,190,321,192,331,193,338,196,341,197,346,199,352,198,360,197,366,197,373,196,380,197,383,196,387,192,389,191,392,190,396,189,400,194,401,201,402,208,403,213,402,216,401,219,397,219,393,216,390,215,385,215,379,213,373,213,365,212,360,210,353,210,347,212,338,213,329,214,319,215,311,215,306,216,296,218,290,221,283,225,282,233,284,238,287,243,290,250,291,255,294,261,293,265,291,271,291,273,289,278,287,279,285,281,280,284,278,284,276,287,277,289,283,291,286,294,291,296,295,299,300,301,304,304,320,305,327,306,332,307,341,306,349,303,354,301,364,301,371,297,375,292,384,291,386,302,393,324,391,333,387,328,375,329,367,329,353,330,341,331,328,336,319,338,310,341,304,341,285,341,278,343,269,344,262,346,259,346,251,349,259,349,264,349,273,349,280,349,288,349,295,349,298,354,293,356,286,354,279,352,268,352,257,351,249,350,234,351,211,352,197,354,185,353,171,351,154,348,147,342,137,339,132,330,122,327,120,314,116,304,117,293,118,284,118,281,122,275,128,265,129,257,131,244,133,239,134,228,136,221,137,214,138,209,135,201,132,192,130,184,131,175,129,170,131,159,134,157,134,160,130,170,125,176,114,176,102,173,103,172,108,171,111,163,115,156,116,149,117,142,116,136,115,129,115,124,115,120,115,115,117,113,120,109,122,102,122,100,121,95,121,89,115,87,110,82,109,84,118,89,123,93,129,100,130,108,132,110,133,110,136,107,138,105,140,95,138,86,141,79,149,77,155,81,162,90,165,97,167,99,171,109,171,107,161,111,156,113,170,115,185,118,208,117,223,121,239,128,251,133,259,136,266,139,276,143,290,148,310,151,332,155,348,156,353,153,366,149,379,147,394,146,399\" href=\"sequence.txt\" shape=\"poly\"/>\n",
      "   </map>\n",
      "   <br/>\n",
      "   <br/>\n",
      "   <font color=\"gold\" size=\"+1\">\n",
      "    len(a[30]) = ?\n",
      "   </font>\n",
      "  </center>\n",
      " </body>\n",
      "</html>\n",
      "\n"
     ]
    }
   ],
   "source": [
    "response = post(\n",
    "    'http://www.pythonchallenge.com/pc/return/bull.html',\n",
    "    headers={'Authorization': 'Basic aHVnZTpmaWxl'}\n",
    ")\n",
    "response = BeautifulSoup(response.text, features='html.parser')\n",
    "print(response.prettify())"
   ]
  },
  {
   "cell_type": "markdown",
   "metadata": {},
   "source": [
    "&emsp;&emsp;又有选区链接！点击图片上最大的公牛（我们刚才画出来的选区），进入新页面。"
   ]
  },
  {
   "cell_type": "code",
   "execution_count": 3,
   "metadata": {},
   "outputs": [
    {
     "name": "stdout",
     "output_type": "stream",
     "text": [
      "a = [1, 11, 21, 1211, 111221, \n",
      "\n"
     ]
    }
   ],
   "source": [
    "response = post(\n",
    "    'http://www.pythonchallenge.com/pc/return/sequence.txt',\n",
    "    headers={'Authorization': 'Basic aHVnZTpmaWxl'}\n",
    ")\n",
    "print(response.text)"
   ]
  },
  {
   "cell_type": "markdown",
   "metadata": {},
   "source": [
    "&emsp;&emsp;仔细观察数列，我们可以发现以下规律：\n",
    "\n",
    "- $1$\n",
    "- 一个$1$\n",
    "- 两个$1$\n",
    "- 一个$2$、一个$1$\n",
    "- 一个$1$、一个$2$、两个$1$\n",
    "\n",
    "&emsp;&emsp;每一项都是前一项的描述，这种*描述*导致的元素长度增长是爆炸性的，我们不可能人工计算$a_{30}$及其数值长度。"
   ]
  },
  {
   "cell_type": "code",
   "execution_count": 4,
   "metadata": {},
   "outputs": [],
   "source": [
    "from re import findall"
   ]
  },
  {
   "cell_type": "code",
   "execution_count": 6,
   "metadata": {},
   "outputs": [
    {
     "name": "stdout",
     "output_type": "stream",
     "text": [
      "Index: 1, Length: 2\n",
      "Index: 2, Length: 2\n",
      "Index: 3, Length: 4\n",
      "Index: 4, Length: 6\n",
      "Index: 5, Length: 6\n",
      "Index: 6, Length: 8\n",
      "Index: 7, Length: 10\n",
      "Index: 8, Length: 14\n",
      "Index: 9, Length: 20\n",
      "Index: 10, Length: 26\n",
      "Index: 11, Length: 34\n",
      "Index: 12, Length: 46\n",
      "Index: 13, Length: 62\n",
      "Index: 14, Length: 78\n",
      "Index: 15, Length: 102\n",
      "Index: 16, Length: 134\n",
      "Index: 17, Length: 176\n",
      "Index: 18, Length: 226\n",
      "Index: 19, Length: 302\n",
      "Index: 20, Length: 408\n",
      "Index: 21, Length: 528\n",
      "Index: 22, Length: 678\n",
      "Index: 23, Length: 904\n",
      "Index: 24, Length: 1182\n",
      "Index: 25, Length: 1540\n",
      "Index: 26, Length: 2012\n",
      "Index: 27, Length: 2606\n",
      "Index: 28, Length: 3410\n",
      "Index: 29, Length: 4462\n",
      "Index: 30, Length: 5808\n"
     ]
    }
   ],
   "source": [
    "# 序列首元素，记作 a[1]\n",
    "item = '1'\n",
    "for k in range(1, 31):\n",
    "    # 其中， '\\1'表示匹配前一个相同字符\n",
    "    group = findall(r'(\\d)(\\1*)', item)\n",
    "    item = ''.join([\n",
    "        # 按照描述规则生成下一项\n",
    "        ('%d%s' % (len(x[0] + x[1]), x[0])) for x in group\n",
    "    ])\n",
    "    print('Index: %d, Length: %d' % (k, len(item)))"
   ]
  },
  {
   "cell_type": "markdown",
   "metadata": {},
   "source": [
    "&emsp;&emsp;最后一个值是我们所期望的，所以下一关卡的链接为：<http://www.pythonchallenge.com/pc/return/5808.html>。"
   ]
  }
 ],
 "metadata": {
  "kernelspec": {
   "display_name": "Python 3",
   "language": "python",
   "name": "python3"
  },
  "language_info": {
   "codemirror_mode": {
    "name": "ipython",
    "version": 3
   },
   "file_extension": ".py",
   "mimetype": "text/x-python",
   "name": "python",
   "nbconvert_exporter": "python",
   "pygments_lexer": "ipython3",
   "version": "3.7.5"
  }
 },
 "nbformat": 4,
 "nbformat_minor": 4
}
