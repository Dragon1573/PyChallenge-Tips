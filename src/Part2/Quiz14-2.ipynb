{
 "cells": [
  {
   "cell_type": "markdown",
   "metadata": {},
   "source": [
    "# UZI\n",
    "\n",
    "[![GitHub License](https://img.shields.io/github/license/Dragon1573/PyChallenge-Tips?color=important&label=Licence&style=flat-square)](https://github.com/Dragon1573/PyChallenge-Tips/blob/master/LICENSE)\n",
    "[![Jump to Level 14.5](https://img.shields.io/badge/Jump%20to-Level%2014.5-blue?style=flat-square)](http://www.pythonchallenge.com/pc/return/cat.html)\n",
    "\n",
    "<center>\n",
    "    <font color=\"gold\" size=\"+1\">\n",
    "        and its name is\n",
    "        <b>uzi</b>\n",
    "        . you'll hear from him later.\n",
    "    </font>\n",
    "    <img src=\"../../resources/imgs/Quiz14-3.png\" />\n",
    "</center>\n",
    "\n",
    "&emsp;&emsp;这只是一个**过渡关卡**，提示语加粗了关键词`uzi`，所以下一关的链接为<http://www.pythonchallenge.com/pc/return/uzi.html>。"
   ]
  }
 ],
 "metadata": {
  "kernelspec": {
   "display_name": "Python 3",
   "language": "python",
   "name": "python3"
  },
  "language_info": {
   "codemirror_mode": {
    "name": "ipython",
    "version": 3
   },
   "file_extension": ".py",
   "mimetype": "text/x-python",
   "name": "python",
   "nbconvert_exporter": "python",
   "pygments_lexer": "ipython3",
   "version": "3.7.5"
  }
 },
 "nbformat": 4,
 "nbformat_minor": 4
}
