{
 "cells": [
  {
   "cell_type": "markdown",
   "metadata": {},
   "source": [
    "# Walk around\n",
    "\n",
    "[![GitHub License](https://img.shields.io/github/license/Dragon1573/PyChallenge-Tips?color=important&label=Licence&style=flat-square)](https://github.com/Dragon1573/PyChallenge-Tips/blob/master/LICENSE)\n",
    "[![Jump to Level 14](https://img.shields.io/badge/Jump%20to-Level%2014-blue?style=flat-square)](http://www.pythonchallenge.com/pc/return/italy.html)\n",
    "\n",
    "<center>\n",
    "    <img src=\"../../resources/imgs/Quiz14-1.png\" />\n",
    "    <br />\n",
    "    <br />\n",
    "    <img src=\"../../resources/imgs/Quiz14-2.png\" style=\"width: 100px; height: 100px;\" />\n",
    "</center>"
   ]
  },
  {
   "cell_type": "markdown",
   "metadata": {},
   "source": [
    "&emsp;&emsp;上面的大图是一块**面包螺**，由外向内顺时针缠绕，而下方的方形图是一张$10000\\times1$的细线，在CSS样式的约束下像看上去有点像条形码。看看网页源代码有没有其他的提示。"
   ]
  },
  {
   "cell_type": "code",
   "execution_count": 1,
   "metadata": {},
   "outputs": [],
   "source": [
    "from requests import post\n",
    "from bs4 import BeautifulSoup"
   ]
  },
  {
   "cell_type": "code",
   "execution_count": 2,
   "metadata": {},
   "outputs": [
    {
     "name": "stdout",
     "output_type": "stream",
     "text": [
      "<html>\n",
      " <head>\n",
      "  <title>\n",
      "   walk around\n",
      "  </title>\n",
      "  <link href=\"../style.css\" rel=\"stylesheet\" type=\"text/css\"/>\n",
      " </head>\n",
      " <body>\n",
      "  <center>\n",
      "   <img src=\"italy.jpg\"/>\n",
      "   <br/>\n",
      "   <br/>\n",
      "   <!-- remember: 100*100 = (100+99+99+98) + (...  -->\n",
      "   <img height=\"100\" src=\"wire.png\" width=\"100\"/>\n",
      "  </center>\n",
      " </body>\n",
      "</html>\n",
      "\n"
     ]
    }
   ],
   "source": [
    "response = post(\n",
    "    'http://www.pythonchallenge.com/pc/return/italy.html',\n",
    "    headers={'Authorization': 'Basic aHVnZTpmaWxl'}\n",
    ")\n",
    "response = BeautifulSoup(response.text, features='html')\n",
    "print(response.prettify())"
   ]
  },
  {
   "cell_type": "markdown",
   "metadata": {},
   "source": [
    "&emsp;&emsp;第13行的提示$100\\times100=(100+99+99+98)+\\cdots$非常重要，它和图1对应，告诉我们图2的缠绕规则。"
   ]
  },
  {
   "cell_type": "code",
   "execution_count": 3,
   "metadata": {},
   "outputs": [],
   "source": [
    "from PIL import Image\n",
    "from io import BytesIO"
   ]
  },
  {
   "cell_type": "code",
   "execution_count": 4,
   "metadata": {},
   "outputs": [],
   "source": [
    "# 爬取原始图片\n",
    "response = post(\n",
    "    'http://www.pythonchallenge.com/pc/return/wire.png',\n",
    "    headers={'Authorization': 'Basic aHVnZTpmaWxl'}\n",
    ")\n",
    "picture = Image.open(BytesIO(response.content))\n",
    "result = Image.new(picture.mode, (100, 100))\n",
    "\n",
    "# 缠绕方向\n",
    "direction = [(1, 0), (0, 1), (-1, 0), (0, -1)]\n",
    "# 绕线起点\n",
    "(x, y) = (-1, 0)\n",
    "# 线定位标记\n",
    "k = 0\n",
    "# 步长（用于匹配绕线规律）\n",
    "steps = 200"
   ]
  },
  {
   "cell_type": "code",
   "execution_count": 5,
   "metadata": {},
   "outputs": [
    {
     "data": {
      "image/png": "[encoded data removed]",
      "text/plain": [
       "<PIL.Image.Image image mode=RGB size=100x100 at 0x14E30347E48>"
      ]
     },
     "metadata": {},
     "output_type": "display_data"
    }
   ],
   "source": [
    "# 只要还有步长，图就没有绕完\n",
    "while steps / 2 > 0:\n",
    "    # 四个方向绕一圈\n",
    "    for vector in direction:\n",
    "        # 整除以获得实际步长（这下就和绕线规律一样了）\n",
    "        step = steps // 2\n",
    "        for i in range(step):\n",
    "            # 沿着方向前进\n",
    "            x += vector[0]\n",
    "            y += vector[1]\n",
    "            # 将像素点放置到图片上\n",
    "            result.putpixel((x, y), picture.getpixel((k, 0)))\n",
    "            k += 1\n",
    "        steps -= 1\n",
    "# 像素线已经缠绕成图片了，奇迹显现吧！\n",
    "display(result)"
   ]
  },
  {
   "cell_type": "markdown",
   "metadata": {},
   "source": [
    "&emsp;&emsp;现在，我们得到了一只猫，所以下一关链接为<http://www.pythonchallenge.com/pc/return/cat.html>。"
   ]
  }
 ],
 "metadata": {
  "kernelspec": {
   "display_name": "Python 3",
   "language": "python",
   "name": "python3"
  },
  "language_info": {
   "codemirror_mode": {
    "name": "ipython",
    "version": 3
   },
   "file_extension": ".py",
   "mimetype": "text/x-python",
   "name": "python",
   "nbconvert_exporter": "python",
   "pygments_lexer": "ipython3",
   "version": "3.7.6"
  }
 },
 "nbformat": 4,
 "nbformat_minor": 4
}
