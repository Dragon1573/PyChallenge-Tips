{
 "cells": [
  {
   "cell_type": "markdown",
   "metadata": {},
   "source": [
    "# It's me. What do you want?\n",
    "\n",
    "[![GitHub License](https://img.shields.io/github/license/Dragon1573/PyChallenge-Tips?color=important&label=Licence&style=flat-square)](https://github.com/Dragon1573/PyChallenge-Tips/blob/master/LICENSE)\n",
    "[![Jump to Level 17.5](https://img.shields.io/badge/Jump%20to-Level%2017.5-blue?style=flat-square)](http://www.pythonchallenge.com/pc/return/romance.html)\n",
    "\n",
    "<center><img src=\"../../resources/imgs/Quiz17-3.png\" /></center>"
   ]
  },
  {
   "cell_type": "markdown",
   "metadata": {},
   "source": [
    "&emsp;&emsp;现在，列奥波尔得·莫扎特的头像出现了。刚才第17关要求我们向他告知一些信息，而且第17关的信息来自`Cookies`，所以我们一样使用`Cookies`进行信息的传递。"
   ]
  },
  {
   "cell_type": "code",
   "execution_count": 1,
   "metadata": {},
   "outputs": [],
   "source": [
    "from requests import get\n",
    "from bs4 import BeautifulSoup as Soup"
   ]
  },
  {
   "cell_type": "code",
   "execution_count": 2,
   "metadata": {},
   "outputs": [
    {
     "name": "stdout",
     "output_type": "stream",
     "text": [
      "oh well, don't you dare to forget the balloons.\n"
     ]
    }
   ],
   "source": [
    "response = get(\n",
    "    'http://www.pythonchallenge.com/pc/stuff/violin.php',\n",
    "    headers={'Authorization': 'Basic aHVnZTpmaWxl'},\n",
    "    cookies={'info': 'the flowers are on their way'}\n",
    ")\n",
    "response = Soup(response.text)\n",
    "print(response.font.text.lstrip())"
   ]
  },
  {
   "cell_type": "markdown",
   "metadata": {},
   "source": [
    "&emsp;&emsp;现在，列奥波尔得提醒我们不要忘了**气球**。所以，下一关的链接为<http://www.pythonchallenge.com/pc/return/balloons.html>。"
   ]
  }
 ],
 "metadata": {
  "kernelspec": {
   "display_name": "Python 3",
   "language": "python",
   "name": "python3"
  },
  "language_info": {
   "codemirror_mode": {
    "name": "ipython",
    "version": 3
   },
   "file_extension": ".py",
   "mimetype": "text/x-python",
   "name": "python",
   "nbconvert_exporter": "python",
   "pygments_lexer": "ipython3",
   "version": "3.7.5"
  }
 },
 "nbformat": 4,
 "nbformat_minor": 4
}
