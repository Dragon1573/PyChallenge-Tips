{
 "cells": [
  {
   "cell_type": "markdown",
   "metadata": {},
   "source": [
    "# Eat?\n",
    "\n",
    "[![GitHub License](https://img.shields.io/github/license/Dragon1573/PyChallenge-Tips?color=important&label=Licence&style=flat-square)](https://github.com/Dragon1573/PyChallenge-Tips/blob/master/LICENSE)\n",
    "[![Jump to Level 17](https://img.shields.io/badge/Jump%20to-Level%2017-blue?style=flat-square)](http://www.pythonchallenge.com/pc/return/romance.html)\n",
    "\n",
    "<center><img src=\"../../resources/imgs/Quiz17-1.png\" /></center>\n",
    "\n",
    "&emsp;&emsp;关卡图片是一堆曲奇（`Cookie`）饼干，而左下角的图片正是第4关的关卡主图。现在，我们去看看浏览器`Cookies`里都有些什么东西吧。\n",
    "\n",
    "<center><img src=\"../../resources/imgs/Quiz17-2.png\" /></center>\n",
    "\n",
    "&emsp;&emsp;检查关卡页面的`Cookies`信息，在`Request Cookies`中有一句提示：**你应该跟着`busynothing`**。综合考虑，我们将附在第4关链接后的查询字段替换为`busynothing`，重新遍历跳转链并收集相应的`Cookies`信息。"
   ]
  },
  {
   "cell_type": "code",
   "execution_count": 1,
   "metadata": {},
   "outputs": [],
   "source": [
    "from requests import get\n",
    "from re import search"
   ]
  },
  {
   "cell_type": "code",
   "execution_count": 2,
   "metadata": {},
   "outputs": [
    {
     "name": "stdout",
     "output_type": "stream",
     "text": [
      ".................................................................................\t80 hops\n",
      ".....................................!\n",
      "Hop counts: 118\n",
      "Secrets: BZh91AY%26SY%94%3A%E2I%00%00%21%19%80P%81%11%00%AFg%9E%A0+%00hE%3DM%B5%23%D0%D4%D1%E2%8D%06%A9%FA%26S%D4%D3%21%A1%EAi7h%9B%9A%2B%BF%60%22%C5WX%E1%ADL%80%E8V%3C%C6%A8%DBH%2632%18%A8x%01%08%21%8DS%0B%C8%AF%96KO%CA2%B0%F1%BD%1Du%A0%86%05%92s%B0%92%C4Bc%F1w%24S%85%09%09C%AE%24%90\n"
     ]
    }
   ],
   "source": [
    "cookie_string = ''\n",
    "PREFIX = 'http://www.pythonchallenge.com/pc/def/linkedlist.php?busynothing='\n",
    "index = \"12345\"\n",
    "hops = 0\n",
    "while True:\n",
    "    response = get(PREFIX + index)\n",
    "    print('.', end='')\n",
    "    if hops > 0 and hops % 80 == 0:\n",
    "        print('\\t%d hops' % hops)\n",
    "    cookies = response.cookies.get_dict()\n",
    "    cookie_string += cookies['info']\n",
    "    hops += 1\n",
    "    pattern = search(r'the next busynothing is (\\d+)', response.text)\n",
    "    if pattern:\n",
    "        index = pattern.group(1)\n",
    "    else:\n",
    "        print('!')\n",
    "        break\n",
    "print('Hop counts:', hops)\n",
    "print('Secrets:', cookie_string)"
   ]
  },
  {
   "cell_type": "markdown",
   "metadata": {},
   "source": [
    "&emsp;&emsp;整理后的`Cookies`字符串是一段经过`bz2`压缩的密文，其中的`+`必须替换为`%20`才能被`bz2`识别并解压。"
   ]
  },
  {
   "cell_type": "code",
   "execution_count": 3,
   "metadata": {},
   "outputs": [],
   "source": [
    "from bz2 import decompress\n",
    "from urllib.parse import unquote_to_bytes"
   ]
  },
  {
   "cell_type": "code",
   "execution_count": 4,
   "metadata": {},
   "outputs": [
    {
     "name": "stdout",
     "output_type": "stream",
     "text": [
      "is it the 26th already? call his father and inform him that \"the flowers are on their way\". he'll understand.\n"
     ]
    }
   ],
   "source": [
    "cookie_string = cookie_string.replace('+', '%20')\n",
    "cookie_string = unquote_to_bytes(cookie_string)\n",
    "print(decompress(cookie_string).decode())"
   ]
  },
  {
   "cell_type": "markdown",
   "metadata": {},
   "source": [
    "&emsp;&emsp;根据获得的明文，按第13关的方法与沃尔夫冈·阿玛多伊斯·莫扎特的父亲**列奥波尔得·莫扎特**通话。"
   ]
  },
  {
   "cell_type": "code",
   "execution_count": 5,
   "metadata": {},
   "outputs": [],
   "source": [
    "from xmlrpc import client"
   ]
  },
  {
   "cell_type": "code",
   "execution_count": 6,
   "metadata": {},
   "outputs": [
    {
     "name": "stdout",
     "output_type": "stream",
     "text": [
      "555-VIOLIN\n"
     ]
    }
   ],
   "source": [
    "print(client.Server(\n",
    "    'http://www.pythonchallenge.com/pc/phonebook.php'\n",
    ").phone('Leopold'))"
   ]
  },
  {
   "cell_type": "markdown",
   "metadata": {},
   "source": [
    "&emsp;&emsp;列奥波尔得的回复中出现关键词`VIOLIN`。"
   ]
  },
  {
   "cell_type": "code",
   "execution_count": 7,
   "metadata": {},
   "outputs": [],
   "source": [
    "from requests import post\n",
    "from bs4 import BeautifulSoup as Soup"
   ]
  },
  {
   "cell_type": "code",
   "execution_count": 8,
   "metadata": {},
   "outputs": [
    {
     "name": "stdout",
     "output_type": "stream",
     "text": [
      "no! i mean yes! but ../stuff/violin.php.\n",
      "\n"
     ]
    }
   ],
   "source": [
    "response = post(\n",
    "    'http://www.pythonchallenge.com/pc/return/violin.html',\n",
    "    headers={'Authorization': 'Basic aHVnZTpmaWxl'}\n",
    ")\n",
    "print(response.text)"
   ]
  },
  {
   "cell_type": "markdown",
   "metadata": {},
   "source": [
    "&emsp;&emsp;因此，下一关的链接为：<http://www.pythonchallenge.com/pc/stuff/violin.php>。"
   ]
  }
 ],
 "metadata": {
  "kernelspec": {
   "display_name": "Python 3",
   "language": "python",
   "name": "python3"
  },
  "language_info": {
   "codemirror_mode": {
    "name": "ipython",
    "version": 3
   },
   "file_extension": ".py",
   "mimetype": "text/x-python",
   "name": "python",
   "nbconvert_exporter": "python",
   "pygments_lexer": "ipython3",
   "version": "3.7.6"
  }
 },
 "nbformat": 4,
 "nbformat_minor": 4
}
